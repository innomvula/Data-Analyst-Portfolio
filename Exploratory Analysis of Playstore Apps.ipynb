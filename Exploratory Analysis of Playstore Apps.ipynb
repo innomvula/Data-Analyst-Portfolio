{
 "cells": [
  {
   "cell_type": "code",
   "execution_count": 1,
   "metadata": {},
   "outputs": [],
   "source": [
    "#importing of libraries, packages and functions\n",
    "import pandas as pd\n",
    "import numpy as np\n",
    "import matplotlib.pyplot as plt\n",
    "import seaborn as sns\n",
    "from matplotlib.pyplot import figure\n",
    "from matplotlib.colors import ListedColormap\n",
    "\n",
    "#sklearn and scikit\n",
    "from sklearn import cluster\n",
    "from sklearn import metrics \n",
    "from sklearn.preprocessing import scale \n",
    "from sklearn.preprocessing import LabelEncoder \n",
    "from scipy.cluster import hierarchy\n",
    "from scipy.cluster.hierarchy import dendrogram, linkage\n",
    "from sklearn.model_selection import cross_validate\n",
    "from sklearn.model_selection import train_test_split\n",
    "from sklearn.linear_model import LogisticRegression\n",
    "from sklearn.linear_model import LinearRegression\n",
    "import statsmodels.api as sm\n",
    "from scipy import stats"
   ]
  },
  {
   "cell_type": "code",
   "execution_count": 3,
   "metadata": {},
   "outputs": [],
   "source": [
    "#use to save file as a dataframe in python for use in analysis\n",
    "raw_ps = pd.read_csv('C:\\\\Users\\\\Inno Mvula\\\\Desktop\\\\MSc Quantitative Finance\\\\S1.CS982 - Big Data Technologies\\\\Datasets\\\\google-play-store-apps\\\\googleplaystore.csv')"
   ]
  },
  {
   "cell_type": "code",
   "execution_count": 4,
   "metadata": {},
   "outputs": [
    {
     "name": "stdout",
     "output_type": "stream",
     "text": [
      "<class 'pandas.core.frame.DataFrame'>\n",
      "RangeIndex: 10841 entries, 0 to 10840\n",
      "Data columns (total 13 columns):\n",
      "App               10841 non-null object\n",
      "Category          10841 non-null object\n",
      "Rating            9367 non-null float64\n",
      "Reviews           10841 non-null object\n",
      "Size              10841 non-null object\n",
      "Installs          10841 non-null object\n",
      "Type              10840 non-null object\n",
      "Price             10841 non-null object\n",
      "Content Rating    10840 non-null object\n",
      "Genres            10841 non-null object\n",
      "Last Updated      10841 non-null object\n",
      "Current Ver       10833 non-null object\n",
      "Android Ver       10838 non-null object\n",
      "dtypes: float64(1), object(12)\n",
      "memory usage: 1.1+ MB\n"
     ]
    }
   ],
   "source": [
    "#information on dataset: observations columns datatypes\n",
    "raw_ps.info()"
   ]
  },
  {
   "cell_type": "code",
   "execution_count": 5,
   "metadata": {},
   "outputs": [
    {
     "data": {
      "text/plain": [
       "App                  0\n",
       "Category             0\n",
       "Rating            1474\n",
       "Reviews              0\n",
       "Size                 0\n",
       "Installs             0\n",
       "Type                 1\n",
       "Price                0\n",
       "Content Rating       1\n",
       "Genres               0\n",
       "Last Updated         0\n",
       "Current Ver          8\n",
       "Android Ver          3\n",
       "dtype: int64"
      ]
     },
     "execution_count": 5,
     "metadata": {},
     "output_type": "execute_result"
    }
   ],
   "source": [
    "#check to see if there is any missing data in each column. output the sum of all missing values in each colum\n",
    "raw_ps.isnull().sum()"
   ]
  },
  {
   "cell_type": "code",
   "execution_count": 6,
   "metadata": {},
   "outputs": [],
   "source": [
    "#drop misaligned row\n",
    "raw_ps2 = raw_ps.drop(10472)"
   ]
  },
  {
   "cell_type": "code",
   "execution_count": 7,
   "metadata": {},
   "outputs": [],
   "source": [
    "#drop all remove rows in that have 'varies with device' in each column\n",
    "raw_ps2 = raw_ps2[raw_ps2.Size != 'Varies with device']"
   ]
  },
  {
   "cell_type": "code",
   "execution_count": 8,
   "metadata": {},
   "outputs": [
    {
     "name": "stdout",
     "output_type": "stream",
     "text": [
      "<class 'pandas.core.frame.DataFrame'>\n",
      "Int64Index: 9145 entries, 0 to 10840\n",
      "Data columns (total 13 columns):\n",
      "App               9145 non-null object\n",
      "Category          9145 non-null object\n",
      "Rating            7729 non-null float64\n",
      "Reviews           9145 non-null object\n",
      "Size              9145 non-null object\n",
      "Installs          9145 non-null object\n",
      "Type              9145 non-null object\n",
      "Price             9145 non-null object\n",
      "Content Rating    9145 non-null object\n",
      "Genres            9145 non-null object\n",
      "Last Updated      9145 non-null object\n",
      "Current Ver       9137 non-null object\n",
      "Android Ver       9143 non-null object\n",
      "dtypes: float64(1), object(12)\n",
      "memory usage: 1000.2+ KB\n"
     ]
    }
   ],
   "source": [
    "#info on dataset\n",
    "raw_ps2.info()"
   ]
  },
  {
   "cell_type": "code",
   "execution_count": 9,
   "metadata": {},
   "outputs": [
    {
     "data": {
      "text/plain": [
       "App                object\n",
       "Category           object\n",
       "Rating            float64\n",
       "Reviews            object\n",
       "Size               object\n",
       "Installs           object\n",
       "Type               object\n",
       "Price              object\n",
       "Content Rating     object\n",
       "Genres             object\n",
       "Last Updated       object\n",
       "Current Ver        object\n",
       "Android Ver        object\n",
       "dtype: object"
      ]
     },
     "execution_count": 9,
     "metadata": {},
     "output_type": "execute_result"
    }
   ],
   "source": [
    "#info on data type in each column\n",
    "raw_ps2.dtypes"
   ]
  },
  {
   "cell_type": "code",
   "execution_count": 10,
   "metadata": {},
   "outputs": [],
   "source": [
    "#stripping of characters to change values in each to numeric values later on\n",
    "raw_ps2['Price'] = raw_ps2['Price'].map(lambda x: x.lstrip('$'))\n",
    "raw_ps2['Size'] = raw_ps2['Size'].map(lambda x: x.rstrip('M'))\n",
    "raw_ps2['Installs'] = raw_ps2['Installs'].map(lambda x: x.rstrip('+'))\n",
    "raw_ps2['Installs'] = raw_ps2['Installs'].map(lambda x: x.replace(',', ''))"
   ]
  },
  {
   "cell_type": "code",
   "execution_count": 11,
   "metadata": {},
   "outputs": [],
   "source": [
    "#stripping all data values with 'k' and transforming from kilobytes to megabytes\n",
    "for index, row in raw_ps2['Size'].iteritems():\n",
    "    if 'k' in row:\n",
    "        row = float(row.rstrip('k'))/1024\n",
    "        raw_ps2['Size'].at[index] = row"
   ]
  },
  {
   "cell_type": "code",
   "execution_count": 13,
   "metadata": {},
   "outputs": [],
   "source": [
    "#changing columns to numeric data types\n",
    "raw_ps2 = raw_ps2.astype({'Reviews': 'int64', 'Price': 'float64', 'Size': 'float64', 'Installs': 'int64'})"
   ]
  },
  {
   "cell_type": "code",
   "execution_count": 14,
   "metadata": {},
   "outputs": [
    {
     "name": "stdout",
     "output_type": "stream",
     "text": [
      "<class 'pandas.core.frame.DataFrame'>\n",
      "Int64Index: 9145 entries, 0 to 10840\n",
      "Data columns (total 13 columns):\n",
      "App               9145 non-null object\n",
      "Category          9145 non-null object\n",
      "Rating            7729 non-null float64\n",
      "Reviews           9145 non-null int64\n",
      "Size              9145 non-null float64\n",
      "Installs          9145 non-null int64\n",
      "Type              9145 non-null object\n",
      "Price             9145 non-null float64\n",
      "Content Rating    9145 non-null object\n",
      "Genres            9145 non-null object\n",
      "Last Updated      9145 non-null object\n",
      "Current Ver       9137 non-null object\n",
      "Android Ver       9143 non-null object\n",
      "dtypes: float64(3), int64(2), object(8)\n",
      "memory usage: 1000.2+ KB\n"
     ]
    }
   ],
   "source": [
    "raw_ps2.info()"
   ]
  },
  {
   "cell_type": "code",
   "execution_count": 15,
   "metadata": {},
   "outputs": [
    {
     "data": {
      "text/plain": [
       "App                  0\n",
       "Category             0\n",
       "Rating            1416\n",
       "Reviews              0\n",
       "Size                 0\n",
       "Installs             0\n",
       "Type                 0\n",
       "Price                0\n",
       "Content Rating       0\n",
       "Genres               0\n",
       "Last Updated         0\n",
       "Current Ver          8\n",
       "Android Ver          2\n",
       "dtype: int64"
      ]
     },
     "execution_count": 15,
     "metadata": {},
     "output_type": "execute_result"
    }
   ],
   "source": [
    "#check to see if there is still missing data in each column. output the sum of all missing values in each colum\n",
    "raw_ps2.isnull().sum()"
   ]
  },
  {
   "cell_type": "code",
   "execution_count": 16,
   "metadata": {},
   "outputs": [
    {
     "data": {
      "text/plain": [
       "App               False\n",
       "Category          False\n",
       "Rating             True\n",
       "Reviews           False\n",
       "Size              False\n",
       "Installs          False\n",
       "Type              False\n",
       "Price             False\n",
       "Content Rating    False\n",
       "Genres            False\n",
       "Last Updated      False\n",
       "Current Ver        True\n",
       "Android Ver        True\n",
       "dtype: bool"
      ]
     },
     "execution_count": 16,
     "metadata": {},
     "output_type": "execute_result"
    }
   ],
   "source": [
    "#check to see if there is any missing data in each column. output the sum of all missing values in each colum\n",
    "raw_ps2.isnull().any()"
   ]
  },
  {
   "cell_type": "code",
   "execution_count": 17,
   "metadata": {},
   "outputs": [
    {
     "data": {
      "text/plain": [
       "True"
      ]
     },
     "execution_count": 17,
     "metadata": {},
     "output_type": "execute_result"
    }
   ],
   "source": [
    "#check to see if there is any missing data in each column. output the sum of all missing values in each colum\n",
    "raw_ps2.isnull().any().any()"
   ]
  },
  {
   "cell_type": "code",
   "execution_count": 18,
   "metadata": {},
   "outputs": [],
   "source": [
    "#drop all rows with missing values\n",
    "playstore = raw_ps2.dropna()"
   ]
  },
  {
   "cell_type": "code",
   "execution_count": 19,
   "metadata": {},
   "outputs": [
    {
     "data": {
      "text/plain": [
       "App               False\n",
       "Category          False\n",
       "Rating            False\n",
       "Reviews           False\n",
       "Size              False\n",
       "Installs          False\n",
       "Type              False\n",
       "Price             False\n",
       "Content Rating    False\n",
       "Genres            False\n",
       "Last Updated      False\n",
       "Current Ver       False\n",
       "Android Ver       False\n",
       "dtype: bool"
      ]
     },
     "execution_count": 19,
     "metadata": {},
     "output_type": "execute_result"
    }
   ],
   "source": [
    "#check to see if there is any missing data in each column\n",
    "playstore.isnull().any()"
   ]
  },
  {
   "cell_type": "code",
   "execution_count": 20,
   "metadata": {},
   "outputs": [
    {
     "name": "stdout",
     "output_type": "stream",
     "text": [
      "<class 'pandas.core.frame.DataFrame'>\n",
      "Int64Index: 7723 entries, 0 to 10840\n",
      "Data columns (total 13 columns):\n",
      "App               7723 non-null object\n",
      "Category          7723 non-null object\n",
      "Rating            7723 non-null float64\n",
      "Reviews           7723 non-null int64\n",
      "Size              7723 non-null float64\n",
      "Installs          7723 non-null int64\n",
      "Type              7723 non-null object\n",
      "Price             7723 non-null float64\n",
      "Content Rating    7723 non-null object\n",
      "Genres            7723 non-null object\n",
      "Last Updated      7723 non-null object\n",
      "Current Ver       7723 non-null object\n",
      "Android Ver       7723 non-null object\n",
      "dtypes: float64(3), int64(2), object(8)\n",
      "memory usage: 844.7+ KB\n"
     ]
    }
   ],
   "source": [
    "#info on data set\n",
    "playstore.info()"
   ]
  },
  {
   "cell_type": "code",
   "execution_count": 21,
   "metadata": {},
   "outputs": [
    {
     "data": {
      "text/html": [
       "<div>\n",
       "<style scoped>\n",
       "    .dataframe tbody tr th:only-of-type {\n",
       "        vertical-align: middle;\n",
       "    }\n",
       "\n",
       "    .dataframe tbody tr th {\n",
       "        vertical-align: top;\n",
       "    }\n",
       "\n",
       "    .dataframe thead th {\n",
       "        text-align: right;\n",
       "    }\n",
       "</style>\n",
       "<table border=\"1\" class=\"dataframe\">\n",
       "  <thead>\n",
       "    <tr style=\"text-align: right;\">\n",
       "      <th></th>\n",
       "      <th>App</th>\n",
       "      <th>Category</th>\n",
       "      <th>Rating</th>\n",
       "      <th>Reviews</th>\n",
       "      <th>Size</th>\n",
       "      <th>Installs</th>\n",
       "      <th>Type</th>\n",
       "      <th>Price</th>\n",
       "      <th>Content Rating</th>\n",
       "      <th>Genres</th>\n",
       "      <th>Last Updated</th>\n",
       "      <th>Current Ver</th>\n",
       "      <th>Android Ver</th>\n",
       "    </tr>\n",
       "  </thead>\n",
       "  <tbody>\n",
       "    <tr>\n",
       "      <td>0</td>\n",
       "      <td>Photo Editor &amp; Candy Camera &amp; Grid &amp; ScrapBook</td>\n",
       "      <td>ART_AND_DESIGN</td>\n",
       "      <td>4.1</td>\n",
       "      <td>159</td>\n",
       "      <td>19.0</td>\n",
       "      <td>10000</td>\n",
       "      <td>Free</td>\n",
       "      <td>0.0</td>\n",
       "      <td>Everyone</td>\n",
       "      <td>Art &amp; Design</td>\n",
       "      <td>January 7, 2018</td>\n",
       "      <td>1.0.0</td>\n",
       "      <td>4.0.3 and up</td>\n",
       "    </tr>\n",
       "    <tr>\n",
       "      <td>1</td>\n",
       "      <td>Coloring book moana</td>\n",
       "      <td>ART_AND_DESIGN</td>\n",
       "      <td>3.9</td>\n",
       "      <td>967</td>\n",
       "      <td>14.0</td>\n",
       "      <td>500000</td>\n",
       "      <td>Free</td>\n",
       "      <td>0.0</td>\n",
       "      <td>Everyone</td>\n",
       "      <td>Art &amp; Design;Pretend Play</td>\n",
       "      <td>January 15, 2018</td>\n",
       "      <td>2.0.0</td>\n",
       "      <td>4.0.3 and up</td>\n",
       "    </tr>\n",
       "    <tr>\n",
       "      <td>2</td>\n",
       "      <td>U Launcher Lite – FREE Live Cool Themes, Hide ...</td>\n",
       "      <td>ART_AND_DESIGN</td>\n",
       "      <td>4.7</td>\n",
       "      <td>87510</td>\n",
       "      <td>8.7</td>\n",
       "      <td>5000000</td>\n",
       "      <td>Free</td>\n",
       "      <td>0.0</td>\n",
       "      <td>Everyone</td>\n",
       "      <td>Art &amp; Design</td>\n",
       "      <td>August 1, 2018</td>\n",
       "      <td>1.2.4</td>\n",
       "      <td>4.0.3 and up</td>\n",
       "    </tr>\n",
       "    <tr>\n",
       "      <td>3</td>\n",
       "      <td>Sketch - Draw &amp; Paint</td>\n",
       "      <td>ART_AND_DESIGN</td>\n",
       "      <td>4.5</td>\n",
       "      <td>215644</td>\n",
       "      <td>25.0</td>\n",
       "      <td>50000000</td>\n",
       "      <td>Free</td>\n",
       "      <td>0.0</td>\n",
       "      <td>Teen</td>\n",
       "      <td>Art &amp; Design</td>\n",
       "      <td>June 8, 2018</td>\n",
       "      <td>Varies with device</td>\n",
       "      <td>4.2 and up</td>\n",
       "    </tr>\n",
       "    <tr>\n",
       "      <td>4</td>\n",
       "      <td>Pixel Draw - Number Art Coloring Book</td>\n",
       "      <td>ART_AND_DESIGN</td>\n",
       "      <td>4.3</td>\n",
       "      <td>967</td>\n",
       "      <td>2.8</td>\n",
       "      <td>100000</td>\n",
       "      <td>Free</td>\n",
       "      <td>0.0</td>\n",
       "      <td>Everyone</td>\n",
       "      <td>Art &amp; Design;Creativity</td>\n",
       "      <td>June 20, 2018</td>\n",
       "      <td>1.1</td>\n",
       "      <td>4.4 and up</td>\n",
       "    </tr>\n",
       "  </tbody>\n",
       "</table>\n",
       "</div>"
      ],
      "text/plain": [
       "                                                 App        Category  Rating  \\\n",
       "0     Photo Editor & Candy Camera & Grid & ScrapBook  ART_AND_DESIGN     4.1   \n",
       "1                                Coloring book moana  ART_AND_DESIGN     3.9   \n",
       "2  U Launcher Lite – FREE Live Cool Themes, Hide ...  ART_AND_DESIGN     4.7   \n",
       "3                              Sketch - Draw & Paint  ART_AND_DESIGN     4.5   \n",
       "4              Pixel Draw - Number Art Coloring Book  ART_AND_DESIGN     4.3   \n",
       "\n",
       "   Reviews  Size  Installs  Type  Price Content Rating  \\\n",
       "0      159  19.0     10000  Free    0.0       Everyone   \n",
       "1      967  14.0    500000  Free    0.0       Everyone   \n",
       "2    87510   8.7   5000000  Free    0.0       Everyone   \n",
       "3   215644  25.0  50000000  Free    0.0           Teen   \n",
       "4      967   2.8    100000  Free    0.0       Everyone   \n",
       "\n",
       "                      Genres      Last Updated         Current Ver  \\\n",
       "0               Art & Design   January 7, 2018               1.0.0   \n",
       "1  Art & Design;Pretend Play  January 15, 2018               2.0.0   \n",
       "2               Art & Design    August 1, 2018               1.2.4   \n",
       "3               Art & Design      June 8, 2018  Varies with device   \n",
       "4    Art & Design;Creativity     June 20, 2018                 1.1   \n",
       "\n",
       "    Android Ver  \n",
       "0  4.0.3 and up  \n",
       "1  4.0.3 and up  \n",
       "2  4.0.3 and up  \n",
       "3    4.2 and up  \n",
       "4    4.4 and up  "
      ]
     },
     "execution_count": 21,
     "metadata": {},
     "output_type": "execute_result"
    }
   ],
   "source": [
    "#observation of dataframe rows and columns\n",
    "playstore.head()"
   ]
  },
  {
   "cell_type": "code",
   "execution_count": 22,
   "metadata": {},
   "outputs": [
    {
     "data": {
      "image/png": "[encoded data removed]",
      "text/plain": [
       "<Figure size 1080x1080 with 1 Axes>"
      ]
     },
     "metadata": {
      "needs_background": "light"
     },
     "output_type": "display_data"
    }
   ],
   "source": [
    "#Display chart of the number of apps in each category\n",
    "figure(figsize=(15,15))\n",
    "playstore['Category'].value_counts().sort_values().plot.barh(color = 'cyan')\n",
    "plt.title('# of Apps by Category')\n",
    "plt.xlabel('# of Apps')\n",
    "plt.ylabel('Category')\n",
    "plt.savefig('C:\\\\Users\\\\Inno Mvula\\\\Desktop\\\\numofapps.png', bbox_inches='tight')\n",
    "plt.show()"
   ]
  },
  {
   "cell_type": "code",
   "execution_count": 23,
   "metadata": {},
   "outputs": [],
   "source": [
    "#create a data frame of number of apps in each category\n",
    "numapps = playstore['Category'].value_counts().sort_values(ascending = False)\n",
    "numapps =numapps.rename_axis('Category').reset_index(name='# of Apps')"
   ]
  },
  {
   "cell_type": "code",
   "execution_count": 24,
   "metadata": {},
   "outputs": [
    {
     "data": {
      "text/html": [
       "<div>\n",
       "<style scoped>\n",
       "    .dataframe tbody tr th:only-of-type {\n",
       "        vertical-align: middle;\n",
       "    }\n",
       "\n",
       "    .dataframe tbody tr th {\n",
       "        vertical-align: top;\n",
       "    }\n",
       "\n",
       "    .dataframe thead th {\n",
       "        text-align: right;\n",
       "    }\n",
       "</style>\n",
       "<table border=\"1\" class=\"dataframe\">\n",
       "  <thead>\n",
       "    <tr style=\"text-align: right;\">\n",
       "      <th></th>\n",
       "      <th>Category</th>\n",
       "      <th># of Apps</th>\n",
       "    </tr>\n",
       "  </thead>\n",
       "  <tbody>\n",
       "    <tr>\n",
       "      <td>0</td>\n",
       "      <td>FAMILY</td>\n",
       "      <td>1616</td>\n",
       "    </tr>\n",
       "    <tr>\n",
       "      <td>1</td>\n",
       "      <td>GAME</td>\n",
       "      <td>974</td>\n",
       "    </tr>\n",
       "    <tr>\n",
       "      <td>2</td>\n",
       "      <td>TOOLS</td>\n",
       "      <td>633</td>\n",
       "    </tr>\n",
       "    <tr>\n",
       "      <td>3</td>\n",
       "      <td>MEDICAL</td>\n",
       "      <td>324</td>\n",
       "    </tr>\n",
       "    <tr>\n",
       "      <td>4</td>\n",
       "      <td>LIFESTYLE</td>\n",
       "      <td>280</td>\n",
       "    </tr>\n",
       "    <tr>\n",
       "      <td>5</td>\n",
       "      <td>PERSONALIZATION</td>\n",
       "      <td>278</td>\n",
       "    </tr>\n",
       "    <tr>\n",
       "      <td>6</td>\n",
       "      <td>FINANCE</td>\n",
       "      <td>266</td>\n",
       "    </tr>\n",
       "    <tr>\n",
       "      <td>7</td>\n",
       "      <td>SPORTS</td>\n",
       "      <td>247</td>\n",
       "    </tr>\n",
       "    <tr>\n",
       "      <td>8</td>\n",
       "      <td>BUSINESS</td>\n",
       "      <td>246</td>\n",
       "    </tr>\n",
       "    <tr>\n",
       "      <td>9</td>\n",
       "      <td>PHOTOGRAPHY</td>\n",
       "      <td>236</td>\n",
       "    </tr>\n",
       "    <tr>\n",
       "      <td>10</td>\n",
       "      <td>PRODUCTIVITY</td>\n",
       "      <td>235</td>\n",
       "    </tr>\n",
       "    <tr>\n",
       "      <td>11</td>\n",
       "      <td>HEALTH_AND_FITNESS</td>\n",
       "      <td>223</td>\n",
       "    </tr>\n",
       "    <tr>\n",
       "      <td>12</td>\n",
       "      <td>COMMUNICATION</td>\n",
       "      <td>211</td>\n",
       "    </tr>\n",
       "    <tr>\n",
       "      <td>13</td>\n",
       "      <td>SHOPPING</td>\n",
       "      <td>179</td>\n",
       "    </tr>\n",
       "    <tr>\n",
       "      <td>14</td>\n",
       "      <td>SOCIAL</td>\n",
       "      <td>177</td>\n",
       "    </tr>\n",
       "    <tr>\n",
       "      <td>15</td>\n",
       "      <td>DATING</td>\n",
       "      <td>173</td>\n",
       "    </tr>\n",
       "    <tr>\n",
       "      <td>16</td>\n",
       "      <td>NEWS_AND_MAGAZINES</td>\n",
       "      <td>169</td>\n",
       "    </tr>\n",
       "    <tr>\n",
       "      <td>17</td>\n",
       "      <td>TRAVEL_AND_LOCAL</td>\n",
       "      <td>160</td>\n",
       "    </tr>\n",
       "    <tr>\n",
       "      <td>18</td>\n",
       "      <td>BOOKS_AND_REFERENCE</td>\n",
       "      <td>144</td>\n",
       "    </tr>\n",
       "    <tr>\n",
       "      <td>19</td>\n",
       "      <td>VIDEO_PLAYERS</td>\n",
       "      <td>116</td>\n",
       "    </tr>\n",
       "    <tr>\n",
       "      <td>20</td>\n",
       "      <td>EDUCATION</td>\n",
       "      <td>110</td>\n",
       "    </tr>\n",
       "    <tr>\n",
       "      <td>21</td>\n",
       "      <td>MAPS_AND_NAVIGATION</td>\n",
       "      <td>95</td>\n",
       "    </tr>\n",
       "    <tr>\n",
       "      <td>22</td>\n",
       "      <td>ENTERTAINMENT</td>\n",
       "      <td>90</td>\n",
       "    </tr>\n",
       "    <tr>\n",
       "      <td>23</td>\n",
       "      <td>FOOD_AND_DRINK</td>\n",
       "      <td>84</td>\n",
       "    </tr>\n",
       "    <tr>\n",
       "      <td>24</td>\n",
       "      <td>AUTO_AND_VEHICLES</td>\n",
       "      <td>63</td>\n",
       "    </tr>\n",
       "    <tr>\n",
       "      <td>25</td>\n",
       "      <td>LIBRARIES_AND_DEMO</td>\n",
       "      <td>61</td>\n",
       "    </tr>\n",
       "    <tr>\n",
       "      <td>26</td>\n",
       "      <td>ART_AND_DESIGN</td>\n",
       "      <td>58</td>\n",
       "    </tr>\n",
       "    <tr>\n",
       "      <td>27</td>\n",
       "      <td>HOUSE_AND_HOME</td>\n",
       "      <td>56</td>\n",
       "    </tr>\n",
       "    <tr>\n",
       "      <td>28</td>\n",
       "      <td>WEATHER</td>\n",
       "      <td>51</td>\n",
       "    </tr>\n",
       "    <tr>\n",
       "      <td>29</td>\n",
       "      <td>COMICS</td>\n",
       "      <td>49</td>\n",
       "    </tr>\n",
       "    <tr>\n",
       "      <td>30</td>\n",
       "      <td>PARENTING</td>\n",
       "      <td>44</td>\n",
       "    </tr>\n",
       "    <tr>\n",
       "      <td>31</td>\n",
       "      <td>EVENTS</td>\n",
       "      <td>38</td>\n",
       "    </tr>\n",
       "    <tr>\n",
       "      <td>32</td>\n",
       "      <td>BEAUTY</td>\n",
       "      <td>37</td>\n",
       "    </tr>\n",
       "  </tbody>\n",
       "</table>\n",
       "</div>"
      ],
      "text/plain": [
       "               Category  # of Apps\n",
       "0                FAMILY       1616\n",
       "1                  GAME        974\n",
       "2                 TOOLS        633\n",
       "3               MEDICAL        324\n",
       "4             LIFESTYLE        280\n",
       "5       PERSONALIZATION        278\n",
       "6               FINANCE        266\n",
       "7                SPORTS        247\n",
       "8              BUSINESS        246\n",
       "9           PHOTOGRAPHY        236\n",
       "10         PRODUCTIVITY        235\n",
       "11   HEALTH_AND_FITNESS        223\n",
       "12        COMMUNICATION        211\n",
       "13             SHOPPING        179\n",
       "14               SOCIAL        177\n",
       "15               DATING        173\n",
       "16   NEWS_AND_MAGAZINES        169\n",
       "17     TRAVEL_AND_LOCAL        160\n",
       "18  BOOKS_AND_REFERENCE        144\n",
       "19        VIDEO_PLAYERS        116\n",
       "20            EDUCATION        110\n",
       "21  MAPS_AND_NAVIGATION         95\n",
       "22        ENTERTAINMENT         90\n",
       "23       FOOD_AND_DRINK         84\n",
       "24    AUTO_AND_VEHICLES         63\n",
       "25   LIBRARIES_AND_DEMO         61\n",
       "26       ART_AND_DESIGN         58\n",
       "27       HOUSE_AND_HOME         56\n",
       "28              WEATHER         51\n",
       "29               COMICS         49\n",
       "30            PARENTING         44\n",
       "31               EVENTS         38\n",
       "32               BEAUTY         37"
      ]
     },
     "execution_count": 24,
     "metadata": {},
     "output_type": "execute_result"
    }
   ],
   "source": [
    "numapps"
   ]
  },
  {
   "cell_type": "code",
   "execution_count": 25,
   "metadata": {},
   "outputs": [
    {
     "data": {
      "text/plain": [
       "Category     object\n",
       "# of Apps     int64\n",
       "dtype: object"
      ]
     },
     "execution_count": 25,
     "metadata": {},
     "output_type": "execute_result"
    }
   ],
   "source": [
    "#observe data type in numapps dataframe\n",
    "numapps.dtypes"
   ]
  },
  {
   "cell_type": "code",
   "execution_count": 26,
   "metadata": {},
   "outputs": [
    {
     "data": {
      "text/html": [
       "<div>\n",
       "<style scoped>\n",
       "    .dataframe tbody tr th:only-of-type {\n",
       "        vertical-align: middle;\n",
       "    }\n",
       "\n",
       "    .dataframe tbody tr th {\n",
       "        vertical-align: top;\n",
       "    }\n",
       "\n",
       "    .dataframe thead th {\n",
       "        text-align: right;\n",
       "    }\n",
       "</style>\n",
       "<table border=\"1\" class=\"dataframe\">\n",
       "  <thead>\n",
       "    <tr style=\"text-align: right;\">\n",
       "      <th></th>\n",
       "      <th>Category</th>\n",
       "      <th># of Apps</th>\n",
       "      <th>% of Total</th>\n",
       "    </tr>\n",
       "  </thead>\n",
       "  <tbody>\n",
       "    <tr>\n",
       "      <td>0</td>\n",
       "      <td>FAMILY</td>\n",
       "      <td>1616</td>\n",
       "      <td>20.92</td>\n",
       "    </tr>\n",
       "    <tr>\n",
       "      <td>1</td>\n",
       "      <td>GAME</td>\n",
       "      <td>974</td>\n",
       "      <td>12.61</td>\n",
       "    </tr>\n",
       "    <tr>\n",
       "      <td>2</td>\n",
       "      <td>TOOLS</td>\n",
       "      <td>633</td>\n",
       "      <td>8.20</td>\n",
       "    </tr>\n",
       "    <tr>\n",
       "      <td>3</td>\n",
       "      <td>MEDICAL</td>\n",
       "      <td>324</td>\n",
       "      <td>4.20</td>\n",
       "    </tr>\n",
       "    <tr>\n",
       "      <td>4</td>\n",
       "      <td>LIFESTYLE</td>\n",
       "      <td>280</td>\n",
       "      <td>3.63</td>\n",
       "    </tr>\n",
       "    <tr>\n",
       "      <td>5</td>\n",
       "      <td>PERSONALIZATION</td>\n",
       "      <td>278</td>\n",
       "      <td>3.60</td>\n",
       "    </tr>\n",
       "    <tr>\n",
       "      <td>6</td>\n",
       "      <td>FINANCE</td>\n",
       "      <td>266</td>\n",
       "      <td>3.44</td>\n",
       "    </tr>\n",
       "    <tr>\n",
       "      <td>7</td>\n",
       "      <td>SPORTS</td>\n",
       "      <td>247</td>\n",
       "      <td>3.20</td>\n",
       "    </tr>\n",
       "    <tr>\n",
       "      <td>8</td>\n",
       "      <td>BUSINESS</td>\n",
       "      <td>246</td>\n",
       "      <td>3.19</td>\n",
       "    </tr>\n",
       "    <tr>\n",
       "      <td>9</td>\n",
       "      <td>PHOTOGRAPHY</td>\n",
       "      <td>236</td>\n",
       "      <td>3.06</td>\n",
       "    </tr>\n",
       "    <tr>\n",
       "      <td>10</td>\n",
       "      <td>PRODUCTIVITY</td>\n",
       "      <td>235</td>\n",
       "      <td>3.04</td>\n",
       "    </tr>\n",
       "    <tr>\n",
       "      <td>11</td>\n",
       "      <td>HEALTH_AND_FITNESS</td>\n",
       "      <td>223</td>\n",
       "      <td>2.89</td>\n",
       "    </tr>\n",
       "    <tr>\n",
       "      <td>12</td>\n",
       "      <td>COMMUNICATION</td>\n",
       "      <td>211</td>\n",
       "      <td>2.73</td>\n",
       "    </tr>\n",
       "    <tr>\n",
       "      <td>13</td>\n",
       "      <td>SHOPPING</td>\n",
       "      <td>179</td>\n",
       "      <td>2.32</td>\n",
       "    </tr>\n",
       "    <tr>\n",
       "      <td>14</td>\n",
       "      <td>SOCIAL</td>\n",
       "      <td>177</td>\n",
       "      <td>2.29</td>\n",
       "    </tr>\n",
       "    <tr>\n",
       "      <td>15</td>\n",
       "      <td>DATING</td>\n",
       "      <td>173</td>\n",
       "      <td>2.24</td>\n",
       "    </tr>\n",
       "    <tr>\n",
       "      <td>16</td>\n",
       "      <td>NEWS_AND_MAGAZINES</td>\n",
       "      <td>169</td>\n",
       "      <td>2.19</td>\n",
       "    </tr>\n",
       "    <tr>\n",
       "      <td>17</td>\n",
       "      <td>TRAVEL_AND_LOCAL</td>\n",
       "      <td>160</td>\n",
       "      <td>2.07</td>\n",
       "    </tr>\n",
       "    <tr>\n",
       "      <td>18</td>\n",
       "      <td>BOOKS_AND_REFERENCE</td>\n",
       "      <td>144</td>\n",
       "      <td>1.86</td>\n",
       "    </tr>\n",
       "    <tr>\n",
       "      <td>19</td>\n",
       "      <td>VIDEO_PLAYERS</td>\n",
       "      <td>116</td>\n",
       "      <td>1.50</td>\n",
       "    </tr>\n",
       "    <tr>\n",
       "      <td>20</td>\n",
       "      <td>EDUCATION</td>\n",
       "      <td>110</td>\n",
       "      <td>1.42</td>\n",
       "    </tr>\n",
       "    <tr>\n",
       "      <td>21</td>\n",
       "      <td>MAPS_AND_NAVIGATION</td>\n",
       "      <td>95</td>\n",
       "      <td>1.23</td>\n",
       "    </tr>\n",
       "    <tr>\n",
       "      <td>22</td>\n",
       "      <td>ENTERTAINMENT</td>\n",
       "      <td>90</td>\n",
       "      <td>1.17</td>\n",
       "    </tr>\n",
       "    <tr>\n",
       "      <td>23</td>\n",
       "      <td>FOOD_AND_DRINK</td>\n",
       "      <td>84</td>\n",
       "      <td>1.09</td>\n",
       "    </tr>\n",
       "    <tr>\n",
       "      <td>24</td>\n",
       "      <td>AUTO_AND_VEHICLES</td>\n",
       "      <td>63</td>\n",
       "      <td>0.82</td>\n",
       "    </tr>\n",
       "    <tr>\n",
       "      <td>25</td>\n",
       "      <td>LIBRARIES_AND_DEMO</td>\n",
       "      <td>61</td>\n",
       "      <td>0.79</td>\n",
       "    </tr>\n",
       "    <tr>\n",
       "      <td>26</td>\n",
       "      <td>ART_AND_DESIGN</td>\n",
       "      <td>58</td>\n",
       "      <td>0.75</td>\n",
       "    </tr>\n",
       "    <tr>\n",
       "      <td>27</td>\n",
       "      <td>HOUSE_AND_HOME</td>\n",
       "      <td>56</td>\n",
       "      <td>0.73</td>\n",
       "    </tr>\n",
       "    <tr>\n",
       "      <td>28</td>\n",
       "      <td>WEATHER</td>\n",
       "      <td>51</td>\n",
       "      <td>0.66</td>\n",
       "    </tr>\n",
       "    <tr>\n",
       "      <td>29</td>\n",
       "      <td>COMICS</td>\n",
       "      <td>49</td>\n",
       "      <td>0.63</td>\n",
       "    </tr>\n",
       "    <tr>\n",
       "      <td>30</td>\n",
       "      <td>PARENTING</td>\n",
       "      <td>44</td>\n",
       "      <td>0.57</td>\n",
       "    </tr>\n",
       "    <tr>\n",
       "      <td>31</td>\n",
       "      <td>EVENTS</td>\n",
       "      <td>38</td>\n",
       "      <td>0.49</td>\n",
       "    </tr>\n",
       "    <tr>\n",
       "      <td>32</td>\n",
       "      <td>BEAUTY</td>\n",
       "      <td>37</td>\n",
       "      <td>0.48</td>\n",
       "    </tr>\n",
       "  </tbody>\n",
       "</table>\n",
       "</div>"
      ],
      "text/plain": [
       "               Category  # of Apps  % of Total\n",
       "0                FAMILY       1616       20.92\n",
       "1                  GAME        974       12.61\n",
       "2                 TOOLS        633        8.20\n",
       "3               MEDICAL        324        4.20\n",
       "4             LIFESTYLE        280        3.63\n",
       "5       PERSONALIZATION        278        3.60\n",
       "6               FINANCE        266        3.44\n",
       "7                SPORTS        247        3.20\n",
       "8              BUSINESS        246        3.19\n",
       "9           PHOTOGRAPHY        236        3.06\n",
       "10         PRODUCTIVITY        235        3.04\n",
       "11   HEALTH_AND_FITNESS        223        2.89\n",
       "12        COMMUNICATION        211        2.73\n",
       "13             SHOPPING        179        2.32\n",
       "14               SOCIAL        177        2.29\n",
       "15               DATING        173        2.24\n",
       "16   NEWS_AND_MAGAZINES        169        2.19\n",
       "17     TRAVEL_AND_LOCAL        160        2.07\n",
       "18  BOOKS_AND_REFERENCE        144        1.86\n",
       "19        VIDEO_PLAYERS        116        1.50\n",
       "20            EDUCATION        110        1.42\n",
       "21  MAPS_AND_NAVIGATION         95        1.23\n",
       "22        ENTERTAINMENT         90        1.17\n",
       "23       FOOD_AND_DRINK         84        1.09\n",
       "24    AUTO_AND_VEHICLES         63        0.82\n",
       "25   LIBRARIES_AND_DEMO         61        0.79\n",
       "26       ART_AND_DESIGN         58        0.75\n",
       "27       HOUSE_AND_HOME         56        0.73\n",
       "28              WEATHER         51        0.66\n",
       "29               COMICS         49        0.63\n",
       "30            PARENTING         44        0.57\n",
       "31               EVENTS         38        0.49\n",
       "32               BEAUTY         37        0.48"
      ]
     },
     "execution_count": 26,
     "metadata": {},
     "output_type": "execute_result"
    }
   ],
   "source": [
    "#append new column to numapps datafram which percentage of apps in each category\n",
    "numapps['% of Total'] = round(numapps['# of Apps']/sum(numapps['# of Apps']) *100, 2)\n",
    "numapps"
   ]
  },
  {
   "cell_type": "code",
   "execution_count": 27,
   "metadata": {},
   "outputs": [],
   "source": [
    "#save numapps to desktop\n",
    "numapps.to_csv(r'C:\\\\Users\\\\Inno Mvula\\\\Desktop\\\\numapps.csv')"
   ]
  },
  {
   "cell_type": "code",
   "execution_count": 28,
   "metadata": {},
   "outputs": [],
   "source": [
    "#correlation matrix\n",
    "corr = playstore[['Rating', 'Reviews', 'Size', 'Installs', 'Price']].corr()"
   ]
  },
  {
   "cell_type": "code",
   "execution_count": 29,
   "metadata": {},
   "outputs": [
    {
     "data": {
      "image/png": "[encoded data removed]",
      "text/plain": [
       "<Figure size 432x288 with 2 Axes>"
      ]
     },
     "metadata": {
      "needs_background": "light"
     },
     "output_type": "display_data"
    }
   ],
   "source": [
    "#observe relationships between desired variables in the form of a heatmap and save to desktop\n",
    "ax = sns.heatmap(corr, annot = True, vmin=-1, vmax=1, center= 0, cmap= 'hsv')\n",
    "bottom, top = ax.get_ylim()\n",
    "ax.set_ylim(bottom + 0.5, top - 0.5)\n",
    "plt.title('Correlation Table')\n",
    "plt.savefig('C:\\\\Users\\\\Inno Mvula\\\\Desktop\\\\correlation table.png', bbox_inches='tight')\n",
    "plt.show()"
   ]
  },
  {
   "cell_type": "code",
   "execution_count": 32,
   "metadata": {},
   "outputs": [
    {
     "data": {
      "text/plain": [
       "<function matplotlib.pyplot.show(*args, **kw)>"
      ]
     },
     "execution_count": 32,
     "metadata": {},
     "output_type": "execute_result"
    },
    {
     "data": {
      "image/png": "[encoded data removed]",
      "text/plain": [
       "<Figure size 900x900 with 30 Axes>"
      ]
     },
     "metadata": {
      "needs_background": "light"
     },
     "output_type": "display_data"
    }
   ],
   "source": [
    "#correlogram\n",
    "sns.pairplot(playstore[['Rating', 'Reviews', 'Size', 'Installs', 'Price']], palette=\"Set2\")\n",
    "plt.savefig('C:\\\\Users\\\\Inno Mvula\\\\Desktop\\\\correlogram.png', bbox_inches='tight')\n",
    "plt.show"
   ]
  },
  {
   "cell_type": "code",
   "execution_count": 31,
   "metadata": {},
   "outputs": [],
   "source": [
    "#function prints out a chart of the average of a desired factor by category. input is a desired factor/variable and output is the average across the different categories\n",
    "def factoravg(factor):\n",
    "    if factor in playstore.columns:\n",
    "        figure(figsize=(10,10))\n",
    "        ax4 = playstore.groupby('Category')[factor].mean().sort_values().plot.barh( color = 'cyan')\n",
    "        totals = []\n",
    "        for i in ax4.patches:\n",
    "            totals.append(i.get_width())\n",
    "        for i in ax4.patches:\n",
    "            whole = ['Reviews', 'Installs']\n",
    "            if factor in whole:\n",
    "                ax4.text(i.get_width() - 0.2, i.get_y()+.15, str(round(i.get_width())), fontsize=10, color='black')\n",
    "            else:\n",
    "                ax4.text(i.get_width(), i.get_y()+.15, str(round(i.get_width(), 2)), fontsize=10, color='black')    \n",
    "        plt.title('Average' + ' ' + factor)\n",
    "        plt.xlabel(factor)\n",
    "        plt.savefig('C:\\\\Users\\\\Inno Mvula\\\\Desktop\\\\factoravg.png', bbox_inches='tight')\n",
    "        plt.show()"
   ]
  },
  {
   "cell_type": "code",
   "execution_count": 32,
   "metadata": {
    "scrolled": true
   },
   "outputs": [
    {
     "data": {
      "image/png": "[encoded data removed]",
      "text/plain": [
       "<Figure size 720x720 with 1 Axes>"
      ]
     },
     "metadata": {
      "needs_background": "light"
     },
     "output_type": "display_data"
    }
   ],
   "source": [
    "factoravg('Reviews')"
   ]
  },
  {
   "cell_type": "code",
   "execution_count": 33,
   "metadata": {},
   "outputs": [
    {
     "data": {
      "image/png": "[encoded data removed]",
      "text/plain": [
       "<Figure size 720x360 with 1 Axes>"
      ]
     },
     "metadata": {
      "needs_background": "light"
     },
     "output_type": "display_data"
    }
   ],
   "source": [
    "#code outputs a histogram displaying the distribution ratings across the dataframe\n",
    "figure(figsize=(10,5))\n",
    "playstore['Rating'].hist(color='cyan')\n",
    "plt.title('Distribution of Ratings')\n",
    "plt.xlabel('Rating')\n",
    "plt.ylabel('Frequency')\n",
    "plt.savefig('C:\\\\Users\\\\Inno Mvula\\\\Desktop\\\\Distribution Rating.png', bbox_inches='tight')\n",
    "plt.show()"
   ]
  },
  {
   "cell_type": "code",
   "execution_count": 34,
   "metadata": {},
   "outputs": [
    {
     "data": {
      "image/png": "[encoded data removed]",
      "text/plain": [
       "<Figure size 720x720 with 1 Axes>"
      ]
     },
     "metadata": {},
     "output_type": "display_data"
    }
   ],
   "source": [
    "#outputs a pie chart showing the percent of apps that are free vs paid\n",
    "figure(figsize=(10,10))\n",
    "playstore['Type'].value_counts().plot.pie(autopct='%1.1f%%', colors = ['cyan', 'yellow'])\n",
    "plt.title('Free vs Paid (Entire Play Store)')\n",
    "plt.ylabel('')\n",
    "plt.savefig('C:\\\\Users\\\\Inno Mvula\\\\Desktop\\\\Total Free vs Paid.png', bbox_inches='tight')\n",
    "plt.show()"
   ]
  },
  {
   "cell_type": "code",
   "execution_count": 35,
   "metadata": {},
   "outputs": [
    {
     "data": {
      "image/png": "[encoded data removed]",
      "text/plain": [
       "<Figure size 720x720 with 1 Axes>"
      ]
     },
     "metadata": {
      "needs_background": "light"
     },
     "output_type": "display_data"
    }
   ],
   "source": [
    "#outputs a horizontal bar chart showing the distribution of content rating across the entire dataframe\n",
    "figure(figsize=(10,10))\n",
    "ax3 = playstore['Content Rating'].value_counts().sort_values().plot.barh(color=['blue','cyan',  'green', 'yellow'])\n",
    "totals = []\n",
    "for i in ax3.patches:\n",
    "    totals.append(i.get_width())\n",
    "total = sum(totals)\n",
    "for i in ax3.patches:\n",
    "    ax3.text(i.get_width()+.3, i.get_y()+.38, \\\n",
    "            str(round((i.get_width()/total)*100, 2))+'%', fontsize=15,\n",
    "color='black')\n",
    "plt.title('Content Rating Distribution')\n",
    "plt.ylabel('Content Rating')\n",
    "plt.xlabel('# of Apps')\n",
    "plt.savefig('C:\\\\Users\\\\Inno Mvula\\\\Desktop\\\\Content Rating Distribution.png', bbox_inches='tight')\n",
    "plt.show()"
   ]
  },
  {
   "cell_type": "code",
   "execution_count": 36,
   "metadata": {},
   "outputs": [
    {
     "name": "stderr",
     "output_type": "stream",
     "text": [
      "C:\\Users\\Inno Mvula\\AppData\\Local\\Continuum\\anaconda3\\lib\\site-packages\\ipykernel_launcher.py:2: SettingWithCopyWarning: \n",
      "A value is trying to be set on a copy of a slice from a DataFrame.\n",
      "Try using .loc[row_indexer,col_indexer] = value instead\n",
      "\n",
      "See the caveats in the documentation: http://pandas.pydata.org/pandas-docs/stable/user_guide/indexing.html#returning-a-view-versus-a-copy\n",
      "  \n",
      "C:\\Users\\Inno Mvula\\AppData\\Local\\Continuum\\anaconda3\\lib\\site-packages\\ipykernel_launcher.py:3: SettingWithCopyWarning: \n",
      "A value is trying to be set on a copy of a slice from a DataFrame.\n",
      "Try using .loc[row_indexer,col_indexer] = value instead\n",
      "\n",
      "See the caveats in the documentation: http://pandas.pydata.org/pandas-docs/stable/user_guide/indexing.html#returning-a-view-versus-a-copy\n",
      "  This is separate from the ipykernel package so we can avoid doing imports until\n",
      "C:\\Users\\Inno Mvula\\AppData\\Local\\Continuum\\anaconda3\\lib\\site-packages\\ipykernel_launcher.py:4: SettingWithCopyWarning: \n",
      "A value is trying to be set on a copy of a slice from a DataFrame.\n",
      "Try using .loc[row_indexer,col_indexer] = value instead\n",
      "\n",
      "See the caveats in the documentation: http://pandas.pydata.org/pandas-docs/stable/user_guide/indexing.html#returning-a-view-versus-a-copy\n",
      "  after removing the cwd from sys.path.\n"
     ]
    }
   ],
   "source": [
    "#encoding of category and content rating columns for use in regression and clustering\n",
    "playstore[\"Content Rating NUM\"] = LabelEncoder().fit_transform(playstore[\"Content Rating\"])\n",
    "playstore[\"Category NUM\"] = LabelEncoder().fit_transform(playstore[\"Category\"])\n",
    "playstore[\"Type NUM\"] = LabelEncoder().fit_transform(playstore[\"Type\"])"
   ]
  },
  {
   "cell_type": "code",
   "execution_count": 37,
   "metadata": {},
   "outputs": [
    {
     "data": {
      "text/plain": [
       "array([1, 4, 2, 3, 0, 5], dtype=int64)"
      ]
     },
     "execution_count": 37,
     "metadata": {},
     "output_type": "execute_result"
    }
   ],
   "source": [
    "playstore['Content Rating NUM'].unique()\n",
    "#Adults only 18+ = 0\n",
    "#Everyone = 1\n",
    "#Everyone 10+ = 2\n",
    "#Mature 17+ = 3\n",
    "#Teen = 4\n",
    "#unrated = 5\n"
   ]
  },
  {
   "cell_type": "code",
   "execution_count": 38,
   "metadata": {},
   "outputs": [
    {
     "data": {
      "text/plain": [
       "array([ 0,  1,  2,  3,  4,  5,  6,  7,  8,  9, 10, 12, 13, 15, 16, 17, 18,\n",
       "       14, 11, 20, 27, 26, 24, 28, 30, 29, 23, 25, 22, 32, 31, 21, 19],\n",
       "      dtype=int64)"
      ]
     },
     "execution_count": 38,
     "metadata": {},
     "output_type": "execute_result"
    }
   ],
   "source": [
    "playstore['Category NUM'].unique()\n",
    "\n",
    "#ART_AND_DESIGN = 0\n",
    "#AUTO_AND_VEHICLES = 1\n",
    "#BEAUTY = 2 \n",
    "#BOOKS_AND_REFERENCE = 3\n",
    "#BUSINESS = 4\n",
    "#COMICS = 5\n",
    "#COMMUNICATION = 6\n",
    "#DATING = 7\n",
    "#EDUCATION = 8\n",
    "#ENTERTAINMENT = 9\n",
    "#EVENTS = 10\n",
    "#FAMILY = 11\n",
    "#FINANCE = 12\n",
    "#FOOD_AND_DRINK = 13\n",
    "#GAME = 14\n",
    "#HEALTH_AND_FITNESS = 15\n",
    "#HOUSE_AND_HOME = 16\n",
    "#LIBRARIES_AND_DEMO = 17\n",
    "#LIFESTYLE = 18\n",
    "#MAPS_AND_NAVIGATION = 19\n",
    "#MEDICAL = 20\n",
    "#NEWS_AND_MAGAZINES = 21\n",
    "#PARENTING = 22\n",
    "#PERSONALIZATION = 23\n",
    "#PHOTOGRAPHY = 24\n",
    "#PRODUCTIVITY = 25\n",
    "#SHOPPING = 26\n",
    "#SOCIAL = 27\n",
    "#SPORTS = 28\n",
    "#TOOLS = 29\n",
    "#TRAVEL_AND_LOCAL = 30\n",
    "#VIDEO_PLAYERS = 31\n",
    "#WEATHER = 32"
   ]
  },
  {
   "cell_type": "code",
   "execution_count": 39,
   "metadata": {},
   "outputs": [
    {
     "data": {
      "text/plain": [
       "array([0, 1], dtype=int64)"
      ]
     },
     "execution_count": 39,
     "metadata": {},
     "output_type": "execute_result"
    }
   ],
   "source": [
    "playstore['Type NUM'].unique()\n",
    "#Free = 0\n",
    "#Paid = 1"
   ]
  },
  {
   "cell_type": "code",
   "execution_count": 40,
   "metadata": {},
   "outputs": [
    {
     "data": {
      "text/html": [
       "<div>\n",
       "<style scoped>\n",
       "    .dataframe tbody tr th:only-of-type {\n",
       "        vertical-align: middle;\n",
       "    }\n",
       "\n",
       "    .dataframe tbody tr th {\n",
       "        vertical-align: top;\n",
       "    }\n",
       "\n",
       "    .dataframe thead th {\n",
       "        text-align: right;\n",
       "    }\n",
       "</style>\n",
       "<table border=\"1\" class=\"dataframe\">\n",
       "  <thead>\n",
       "    <tr style=\"text-align: right;\">\n",
       "      <th></th>\n",
       "      <th>App</th>\n",
       "      <th>Category</th>\n",
       "      <th>Rating</th>\n",
       "      <th>Reviews</th>\n",
       "      <th>Size</th>\n",
       "      <th>Installs</th>\n",
       "      <th>Type</th>\n",
       "      <th>Price</th>\n",
       "      <th>Content Rating</th>\n",
       "      <th>Genres</th>\n",
       "      <th>Last Updated</th>\n",
       "      <th>Current Ver</th>\n",
       "      <th>Android Ver</th>\n",
       "      <th>Content Rating NUM</th>\n",
       "      <th>Category NUM</th>\n",
       "      <th>Type NUM</th>\n",
       "    </tr>\n",
       "  </thead>\n",
       "  <tbody>\n",
       "    <tr>\n",
       "      <td>0</td>\n",
       "      <td>Photo Editor &amp; Candy Camera &amp; Grid &amp; ScrapBook</td>\n",
       "      <td>ART_AND_DESIGN</td>\n",
       "      <td>4.1</td>\n",
       "      <td>159</td>\n",
       "      <td>19.0</td>\n",
       "      <td>10000</td>\n",
       "      <td>Free</td>\n",
       "      <td>0.0</td>\n",
       "      <td>Everyone</td>\n",
       "      <td>Art &amp; Design</td>\n",
       "      <td>January 7, 2018</td>\n",
       "      <td>1.0.0</td>\n",
       "      <td>4.0.3 and up</td>\n",
       "      <td>1</td>\n",
       "      <td>0</td>\n",
       "      <td>0</td>\n",
       "    </tr>\n",
       "    <tr>\n",
       "      <td>1</td>\n",
       "      <td>Coloring book moana</td>\n",
       "      <td>ART_AND_DESIGN</td>\n",
       "      <td>3.9</td>\n",
       "      <td>967</td>\n",
       "      <td>14.0</td>\n",
       "      <td>500000</td>\n",
       "      <td>Free</td>\n",
       "      <td>0.0</td>\n",
       "      <td>Everyone</td>\n",
       "      <td>Art &amp; Design;Pretend Play</td>\n",
       "      <td>January 15, 2018</td>\n",
       "      <td>2.0.0</td>\n",
       "      <td>4.0.3 and up</td>\n",
       "      <td>1</td>\n",
       "      <td>0</td>\n",
       "      <td>0</td>\n",
       "    </tr>\n",
       "    <tr>\n",
       "      <td>2</td>\n",
       "      <td>U Launcher Lite – FREE Live Cool Themes, Hide ...</td>\n",
       "      <td>ART_AND_DESIGN</td>\n",
       "      <td>4.7</td>\n",
       "      <td>87510</td>\n",
       "      <td>8.7</td>\n",
       "      <td>5000000</td>\n",
       "      <td>Free</td>\n",
       "      <td>0.0</td>\n",
       "      <td>Everyone</td>\n",
       "      <td>Art &amp; Design</td>\n",
       "      <td>August 1, 2018</td>\n",
       "      <td>1.2.4</td>\n",
       "      <td>4.0.3 and up</td>\n",
       "      <td>1</td>\n",
       "      <td>0</td>\n",
       "      <td>0</td>\n",
       "    </tr>\n",
       "    <tr>\n",
       "      <td>3</td>\n",
       "      <td>Sketch - Draw &amp; Paint</td>\n",
       "      <td>ART_AND_DESIGN</td>\n",
       "      <td>4.5</td>\n",
       "      <td>215644</td>\n",
       "      <td>25.0</td>\n",
       "      <td>50000000</td>\n",
       "      <td>Free</td>\n",
       "      <td>0.0</td>\n",
       "      <td>Teen</td>\n",
       "      <td>Art &amp; Design</td>\n",
       "      <td>June 8, 2018</td>\n",
       "      <td>Varies with device</td>\n",
       "      <td>4.2 and up</td>\n",
       "      <td>4</td>\n",
       "      <td>0</td>\n",
       "      <td>0</td>\n",
       "    </tr>\n",
       "    <tr>\n",
       "      <td>4</td>\n",
       "      <td>Pixel Draw - Number Art Coloring Book</td>\n",
       "      <td>ART_AND_DESIGN</td>\n",
       "      <td>4.3</td>\n",
       "      <td>967</td>\n",
       "      <td>2.8</td>\n",
       "      <td>100000</td>\n",
       "      <td>Free</td>\n",
       "      <td>0.0</td>\n",
       "      <td>Everyone</td>\n",
       "      <td>Art &amp; Design;Creativity</td>\n",
       "      <td>June 20, 2018</td>\n",
       "      <td>1.1</td>\n",
       "      <td>4.4 and up</td>\n",
       "      <td>1</td>\n",
       "      <td>0</td>\n",
       "      <td>0</td>\n",
       "    </tr>\n",
       "  </tbody>\n",
       "</table>\n",
       "</div>"
      ],
      "text/plain": [
       "                                                 App        Category  Rating  \\\n",
       "0     Photo Editor & Candy Camera & Grid & ScrapBook  ART_AND_DESIGN     4.1   \n",
       "1                                Coloring book moana  ART_AND_DESIGN     3.9   \n",
       "2  U Launcher Lite – FREE Live Cool Themes, Hide ...  ART_AND_DESIGN     4.7   \n",
       "3                              Sketch - Draw & Paint  ART_AND_DESIGN     4.5   \n",
       "4              Pixel Draw - Number Art Coloring Book  ART_AND_DESIGN     4.3   \n",
       "\n",
       "   Reviews  Size  Installs  Type  Price Content Rating  \\\n",
       "0      159  19.0     10000  Free    0.0       Everyone   \n",
       "1      967  14.0    500000  Free    0.0       Everyone   \n",
       "2    87510   8.7   5000000  Free    0.0       Everyone   \n",
       "3   215644  25.0  50000000  Free    0.0           Teen   \n",
       "4      967   2.8    100000  Free    0.0       Everyone   \n",
       "\n",
       "                      Genres      Last Updated         Current Ver  \\\n",
       "0               Art & Design   January 7, 2018               1.0.0   \n",
       "1  Art & Design;Pretend Play  January 15, 2018               2.0.0   \n",
       "2               Art & Design    August 1, 2018               1.2.4   \n",
       "3               Art & Design      June 8, 2018  Varies with device   \n",
       "4    Art & Design;Creativity     June 20, 2018                 1.1   \n",
       "\n",
       "    Android Ver  Content Rating NUM  Category NUM  Type NUM  \n",
       "0  4.0.3 and up                   1             0         0  \n",
       "1  4.0.3 and up                   1             0         0  \n",
       "2  4.0.3 and up                   1             0         0  \n",
       "3    4.2 and up                   4             0         0  \n",
       "4    4.4 and up                   1             0         0  "
      ]
     },
     "execution_count": 40,
     "metadata": {},
     "output_type": "execute_result"
    }
   ],
   "source": [
    "playstore.head()"
   ]
  },
  {
   "cell_type": "code",
   "execution_count": 41,
   "metadata": {},
   "outputs": [],
   "source": [
    "#changing the desired columns data types to numeric values\n",
    "playstore = playstore.astype({'Category NUM': 'int64', 'Content Rating NUM': 'int64', 'Type NUM': 'int64'})"
   ]
  },
  {
   "cell_type": "code",
   "execution_count": 42,
   "metadata": {},
   "outputs": [
    {
     "data": {
      "text/plain": [
       "App                    object\n",
       "Category               object\n",
       "Rating                float64\n",
       "Reviews                 int64\n",
       "Size                  float64\n",
       "Installs                int64\n",
       "Type                   object\n",
       "Price                 float64\n",
       "Content Rating         object\n",
       "Genres                 object\n",
       "Last Updated           object\n",
       "Current Ver            object\n",
       "Android Ver            object\n",
       "Content Rating NUM      int64\n",
       "Category NUM            int64\n",
       "Type NUM                int64\n",
       "dtype: object"
      ]
     },
     "execution_count": 42,
     "metadata": {},
     "output_type": "execute_result"
    }
   ],
   "source": [
    "playstore.dtypes"
   ]
  },
  {
   "cell_type": "code",
   "execution_count": 43,
   "metadata": {},
   "outputs": [
    {
     "data": {
      "image/png": "[encoded data removed]",
      "text/plain": [
       "<Figure size 1440x1440 with 1 Axes>"
      ]
     },
     "metadata": {
      "needs_background": "light"
     },
     "output_type": "display_data"
    }
   ],
   "source": [
    "#outputs a horizontal bar chart showing the number of free vs paid apps by category\n",
    "freepaid = playstore.groupby('Category')['Type'].value_counts()\n",
    "type_sort = freepaid.groupby(level=[0]).sum().sort_values(ascending=True)\n",
    "freepaid.reindex(index=type_sort.index, level=0).unstack().plot.barh(stacked=True, cmap='cool')\n",
    "plt.title('Free vs Paid by Category')\n",
    "plt.ylabel('Category')\n",
    "plt.xlabel('# of Apps')\n",
    "plt.legend(loc = 'lower right')\n",
    "plt.gcf().set_size_inches(20, 20)\n",
    "plt.savefig('C:\\\\Users\\\\Inno Mvula\\\\Desktop\\\\Free vs Paid.png', bbox_inches='tight')\n",
    "plt.show()"
   ]
  },
  {
   "cell_type": "code",
   "execution_count": 44,
   "metadata": {},
   "outputs": [
    {
     "data": {
      "image/png": "[encoded data removed]",
      "text/plain": [
       "<Figure size 1440x1440 with 1 Axes>"
      ]
     },
     "metadata": {
      "needs_background": "light"
     },
     "output_type": "display_data"
    }
   ],
   "source": [
    "#outputs a horizontal bar chart showing the amount of apps according to content rating by category\n",
    "contrate = playstore.groupby('Category')['Content Rating'].value_counts()\n",
    "type_sort = contrate.groupby(level=[0]).sum().sort_values(ascending=True)\n",
    "contrate.reindex(index=type_sort.index, level=0).unstack().plot.barh(stacked=True, cmap='jet')\n",
    "plt.title('Content Rating Distribution by Category')\n",
    "plt.ylabel('Category')\n",
    "plt.xlabel('# of Apps')\n",
    "plt.legend(loc = 'lower right')\n",
    "plt.gcf().set_size_inches(20, 20)\n",
    "plt.savefig('C:\\\\Users\\\\Inno Mvula\\\\Desktop\\\\Content Rating Distribution.png', bbox_inches='tight')\n",
    "plt.show()"
   ]
  },
  {
   "cell_type": "code",
   "execution_count": 45,
   "metadata": {},
   "outputs": [
    {
     "data": {
      "text/plain": [
       "Action                           322\n",
       "Arcade                           186\n",
       "Racing                            83\n",
       "Adventure                         68\n",
       "Card                              39\n",
       "Board                             38\n",
       "Casual                            35\n",
       "Puzzle                            33\n",
       "Casino                            32\n",
       "Trivia                            27\n",
       "Word                              24\n",
       "Strategy                          22\n",
       "Role Playing                      15\n",
       "Music                             15\n",
       "Sports                            14\n",
       "Simulation                         9\n",
       "Adventure;Action & Adventure       5\n",
       "Action;Action & Adventure          2\n",
       "Casual;Pretend Play                1\n",
       "Casual;Brain Games                 1\n",
       "Simulation;Action & Adventure      1\n",
       "Simulation;Education               1\n",
       "Casual;Creativity                  1\n",
       "Name: Genres, dtype: int64"
      ]
     },
     "execution_count": 45,
     "metadata": {},
     "output_type": "execute_result"
    }
   ],
   "source": [
    "#outputs all genres in the game category and their values\n",
    "game_genres = playstore.groupby('Category').get_group('GAME')['Genres']\n",
    "playstore.groupby('Category').get_group('GAME')['Genres'].value_counts()"
   ]
  },
  {
   "cell_type": "code",
   "execution_count": 46,
   "metadata": {},
   "outputs": [
    {
     "name": "stdout",
     "output_type": "stream",
     "text": [
      "{'Adventure': 73, 'Action & Adventure': 8, 'Arcade': 186, 'Casual': 38, 'Card': 39, 'Pretend Play': 1, 'Strategy': 22, 'Action': 324, 'Puzzle': 33, 'Sports': 14, 'Word': 24, 'Racing': 83, 'Creativity': 1, 'Simulation': 11, 'Board': 38, 'Trivia': 27, 'Role Playing': 15, 'Education': 1, 'Brain Games': 1, 'Music': 15, 'Casino': 32}\n"
     ]
    }
   ],
   "source": [
    "#this code appends all apps that are multiple genres and adds their value to the individual genres they fall under. \n",
    "#for example adventure; action & adventure. This falls under adventure and another genre called action & adventure so we add this to action and create a new genre action & adventure\n",
    "#output is a dictionary\n",
    "genre_list = list(game_genres)\n",
    "ggenres = {}\n",
    "for genre in genre_list:\n",
    "    if ';' in genre:\n",
    "        genre2 = genre.split(';')\n",
    "        for gen in genre2:\n",
    "            if gen not in ggenres:\n",
    "                ggenres[gen] = 1\n",
    "            else:\n",
    "                ggenres[gen] += 1\n",
    "    else:\n",
    "        if genre not in ggenres:\n",
    "            ggenres[genre] = 1\n",
    "        else:\n",
    "            ggenres[genre] += 1\n",
    "print(ggenres)"
   ]
  },
  {
   "cell_type": "code",
   "execution_count": 47,
   "metadata": {},
   "outputs": [
    {
     "data": {
      "text/html": [
       "<div>\n",
       "<style scoped>\n",
       "    .dataframe tbody tr th:only-of-type {\n",
       "        vertical-align: middle;\n",
       "    }\n",
       "\n",
       "    .dataframe tbody tr th {\n",
       "        vertical-align: top;\n",
       "    }\n",
       "\n",
       "    .dataframe thead th {\n",
       "        text-align: right;\n",
       "    }\n",
       "</style>\n",
       "<table border=\"1\" class=\"dataframe\">\n",
       "  <thead>\n",
       "    <tr style=\"text-align: right;\">\n",
       "      <th></th>\n",
       "      <th>Genre</th>\n",
       "      <th># of Apps</th>\n",
       "    </tr>\n",
       "  </thead>\n",
       "  <tbody>\n",
       "    <tr>\n",
       "      <td>0</td>\n",
       "      <td>Adventure</td>\n",
       "      <td>73</td>\n",
       "    </tr>\n",
       "    <tr>\n",
       "      <td>1</td>\n",
       "      <td>Action &amp; Adventure</td>\n",
       "      <td>8</td>\n",
       "    </tr>\n",
       "    <tr>\n",
       "      <td>2</td>\n",
       "      <td>Arcade</td>\n",
       "      <td>186</td>\n",
       "    </tr>\n",
       "    <tr>\n",
       "      <td>3</td>\n",
       "      <td>Casual</td>\n",
       "      <td>38</td>\n",
       "    </tr>\n",
       "    <tr>\n",
       "      <td>4</td>\n",
       "      <td>Card</td>\n",
       "      <td>39</td>\n",
       "    </tr>\n",
       "    <tr>\n",
       "      <td>5</td>\n",
       "      <td>Pretend Play</td>\n",
       "      <td>1</td>\n",
       "    </tr>\n",
       "    <tr>\n",
       "      <td>6</td>\n",
       "      <td>Strategy</td>\n",
       "      <td>22</td>\n",
       "    </tr>\n",
       "    <tr>\n",
       "      <td>7</td>\n",
       "      <td>Action</td>\n",
       "      <td>324</td>\n",
       "    </tr>\n",
       "    <tr>\n",
       "      <td>8</td>\n",
       "      <td>Puzzle</td>\n",
       "      <td>33</td>\n",
       "    </tr>\n",
       "    <tr>\n",
       "      <td>9</td>\n",
       "      <td>Sports</td>\n",
       "      <td>14</td>\n",
       "    </tr>\n",
       "    <tr>\n",
       "      <td>10</td>\n",
       "      <td>Word</td>\n",
       "      <td>24</td>\n",
       "    </tr>\n",
       "    <tr>\n",
       "      <td>11</td>\n",
       "      <td>Racing</td>\n",
       "      <td>83</td>\n",
       "    </tr>\n",
       "    <tr>\n",
       "      <td>12</td>\n",
       "      <td>Creativity</td>\n",
       "      <td>1</td>\n",
       "    </tr>\n",
       "    <tr>\n",
       "      <td>13</td>\n",
       "      <td>Simulation</td>\n",
       "      <td>11</td>\n",
       "    </tr>\n",
       "    <tr>\n",
       "      <td>14</td>\n",
       "      <td>Board</td>\n",
       "      <td>38</td>\n",
       "    </tr>\n",
       "    <tr>\n",
       "      <td>15</td>\n",
       "      <td>Trivia</td>\n",
       "      <td>27</td>\n",
       "    </tr>\n",
       "    <tr>\n",
       "      <td>16</td>\n",
       "      <td>Role Playing</td>\n",
       "      <td>15</td>\n",
       "    </tr>\n",
       "    <tr>\n",
       "      <td>17</td>\n",
       "      <td>Education</td>\n",
       "      <td>1</td>\n",
       "    </tr>\n",
       "    <tr>\n",
       "      <td>18</td>\n",
       "      <td>Brain Games</td>\n",
       "      <td>1</td>\n",
       "    </tr>\n",
       "    <tr>\n",
       "      <td>19</td>\n",
       "      <td>Music</td>\n",
       "      <td>15</td>\n",
       "    </tr>\n",
       "    <tr>\n",
       "      <td>20</td>\n",
       "      <td>Casino</td>\n",
       "      <td>32</td>\n",
       "    </tr>\n",
       "  </tbody>\n",
       "</table>\n",
       "</div>"
      ],
      "text/plain": [
       "                 Genre  # of Apps\n",
       "0            Adventure         73\n",
       "1   Action & Adventure          8\n",
       "2               Arcade        186\n",
       "3               Casual         38\n",
       "4                 Card         39\n",
       "5         Pretend Play          1\n",
       "6             Strategy         22\n",
       "7               Action        324\n",
       "8               Puzzle         33\n",
       "9               Sports         14\n",
       "10                Word         24\n",
       "11              Racing         83\n",
       "12          Creativity          1\n",
       "13          Simulation         11\n",
       "14               Board         38\n",
       "15              Trivia         27\n",
       "16        Role Playing         15\n",
       "17           Education          1\n",
       "18         Brain Games          1\n",
       "19               Music         15\n",
       "20              Casino         32"
      ]
     },
     "execution_count": 47,
     "metadata": {},
     "output_type": "execute_result"
    }
   ],
   "source": [
    "#create a datafram from the dictionary ggenres for easier manipulation and visualization\n",
    "gdf = pd.DataFrame(ggenres.items(), columns=[\"Genre\", \"# of Apps\"])\n",
    "gdf"
   ]
  },
  {
   "cell_type": "code",
   "execution_count": 48,
   "metadata": {},
   "outputs": [
    {
     "data": {
      "image/png": "[encoded data removed]",
      "text/plain": [
       "<Figure size 720x720 with 1 Axes>"
      ]
     },
     "metadata": {
      "needs_background": "light"
     },
     "output_type": "display_data"
    }
   ],
   "source": [
    "#ouputs a horizontal bar chart depiciting the number of apps by genre in the game category\n",
    "ax5 = gdf.sort_values(by = '# of Apps').plot.barh('Genre', '# of Apps', color = 'cyan')\n",
    "totals = []\n",
    "for i in ax5.patches:\n",
    "    totals.append(i.get_width())\n",
    "    for i in ax5.patches:\n",
    "        ax5.text(i.get_width(), i.get_y()+.10, str(round(i.get_width(), 2)), fontsize=10, color='black')    \n",
    "        plt.title('# of Apps by Genre in the Game Category')\n",
    "        plt.xlabel('# of Apps')\n",
    "        plt.gcf().set_size_inches(10, 10)\n",
    "        plt.legend(loc = 'lower right')\n",
    "        \n",
    "plt.savefig('C:\\\\Users\\\\Inno Mvula\\\\Desktop\\\\Genre distribution in the game category.png', bbox_inches='tight')\n",
    "plt.show()\n"
   ]
  },
  {
   "cell_type": "code",
   "execution_count": null,
   "metadata": {},
   "outputs": [],
   "source": []
  },
  {
   "cell_type": "code",
   "execution_count": 49,
   "metadata": {},
   "outputs": [
    {
     "data": {
      "text/plain": [
       "Entertainment                          367\n",
       "Education                              325\n",
       "Simulation                             173\n",
       "Casual                                 125\n",
       "Role Playing                            88\n",
       "                                      ... \n",
       "Role Playing;Brain Games                 1\n",
       "Puzzle;Education                         1\n",
       "Music & Audio;Music & Video              1\n",
       "Board;Pretend Play                       1\n",
       "Health & Fitness;Action & Adventure      1\n",
       "Name: Genres, Length: 66, dtype: int64"
      ]
     },
     "execution_count": 49,
     "metadata": {},
     "output_type": "execute_result"
    }
   ],
   "source": [
    "#outputs all genres in the game category and their values\n",
    "fam_genres = playstore.groupby('Category').get_group('FAMILY')['Genres']\n",
    "playstore.groupby('Category').get_group('FAMILY')['Genres'].value_counts()"
   ]
  },
  {
   "cell_type": "code",
   "execution_count": 50,
   "metadata": {},
   "outputs": [
    {
     "name": "stdout",
     "output_type": "stream",
     "text": [
      "{'Casual': 192, 'Brain Games': 57, 'Adventure': 11, 'Action & Adventure': 106, 'Educational': 97, 'Creativity': 21, 'Puzzle': 100, 'Education': 462, 'Card': 3, 'Pretend Play': 79, 'Simulation': 188, 'Art & Design': 2, 'Entertainment': 388, 'Music': 3, 'Music & Video': 19, 'Arcade': 14, 'Action': 14, 'Racing': 15, 'Role Playing': 99, 'Strategy': 78, 'Music & Audio': 1, 'Health & Fitness': 2, 'Board': 18, 'Video Players & Editors': 2, 'Sports': 2, 'Books & Reference': 2}\n"
     ]
    }
   ],
   "source": [
    "#this code appends all apps that are multiple genres and adds their value to the individual genres they fall under. \n",
    "#for example adventure; action & adventure. This falls under adventure and another genre called action & adventure so we add this to action and create a new genre action & adventure\n",
    "fgenre_list = list(fam_genres)\n",
    "fgenres = {}\n",
    "for genre in fgenre_list:\n",
    "    if ';' in genre:\n",
    "        genre2 = genre.split(';')\n",
    "        for gen in genre2:\n",
    "            if gen not in fgenres:\n",
    "                fgenres[gen] = 1\n",
    "            else:\n",
    "                fgenres[gen] += 1\n",
    "    else:\n",
    "        if genre not in fgenres:\n",
    "            fgenres[genre] = 1\n",
    "        else:\n",
    "            fgenres[genre] += 1\n",
    "print(fgenres)"
   ]
  },
  {
   "cell_type": "code",
   "execution_count": 51,
   "metadata": {},
   "outputs": [
    {
     "data": {
      "text/html": [
       "<div>\n",
       "<style scoped>\n",
       "    .dataframe tbody tr th:only-of-type {\n",
       "        vertical-align: middle;\n",
       "    }\n",
       "\n",
       "    .dataframe tbody tr th {\n",
       "        vertical-align: top;\n",
       "    }\n",
       "\n",
       "    .dataframe thead th {\n",
       "        text-align: right;\n",
       "    }\n",
       "</style>\n",
       "<table border=\"1\" class=\"dataframe\">\n",
       "  <thead>\n",
       "    <tr style=\"text-align: right;\">\n",
       "      <th></th>\n",
       "      <th>Genre</th>\n",
       "      <th># of Apps</th>\n",
       "    </tr>\n",
       "  </thead>\n",
       "  <tbody>\n",
       "    <tr>\n",
       "      <td>0</td>\n",
       "      <td>Casual</td>\n",
       "      <td>192</td>\n",
       "    </tr>\n",
       "    <tr>\n",
       "      <td>1</td>\n",
       "      <td>Brain Games</td>\n",
       "      <td>57</td>\n",
       "    </tr>\n",
       "    <tr>\n",
       "      <td>2</td>\n",
       "      <td>Adventure</td>\n",
       "      <td>11</td>\n",
       "    </tr>\n",
       "    <tr>\n",
       "      <td>3</td>\n",
       "      <td>Action &amp; Adventure</td>\n",
       "      <td>106</td>\n",
       "    </tr>\n",
       "    <tr>\n",
       "      <td>4</td>\n",
       "      <td>Educational</td>\n",
       "      <td>97</td>\n",
       "    </tr>\n",
       "    <tr>\n",
       "      <td>5</td>\n",
       "      <td>Creativity</td>\n",
       "      <td>21</td>\n",
       "    </tr>\n",
       "    <tr>\n",
       "      <td>6</td>\n",
       "      <td>Puzzle</td>\n",
       "      <td>100</td>\n",
       "    </tr>\n",
       "    <tr>\n",
       "      <td>7</td>\n",
       "      <td>Education</td>\n",
       "      <td>462</td>\n",
       "    </tr>\n",
       "    <tr>\n",
       "      <td>8</td>\n",
       "      <td>Card</td>\n",
       "      <td>3</td>\n",
       "    </tr>\n",
       "    <tr>\n",
       "      <td>9</td>\n",
       "      <td>Pretend Play</td>\n",
       "      <td>79</td>\n",
       "    </tr>\n",
       "    <tr>\n",
       "      <td>10</td>\n",
       "      <td>Simulation</td>\n",
       "      <td>188</td>\n",
       "    </tr>\n",
       "    <tr>\n",
       "      <td>11</td>\n",
       "      <td>Art &amp; Design</td>\n",
       "      <td>2</td>\n",
       "    </tr>\n",
       "    <tr>\n",
       "      <td>12</td>\n",
       "      <td>Entertainment</td>\n",
       "      <td>388</td>\n",
       "    </tr>\n",
       "    <tr>\n",
       "      <td>13</td>\n",
       "      <td>Music</td>\n",
       "      <td>3</td>\n",
       "    </tr>\n",
       "    <tr>\n",
       "      <td>14</td>\n",
       "      <td>Music &amp; Video</td>\n",
       "      <td>19</td>\n",
       "    </tr>\n",
       "    <tr>\n",
       "      <td>15</td>\n",
       "      <td>Arcade</td>\n",
       "      <td>14</td>\n",
       "    </tr>\n",
       "    <tr>\n",
       "      <td>16</td>\n",
       "      <td>Action</td>\n",
       "      <td>14</td>\n",
       "    </tr>\n",
       "    <tr>\n",
       "      <td>17</td>\n",
       "      <td>Racing</td>\n",
       "      <td>15</td>\n",
       "    </tr>\n",
       "    <tr>\n",
       "      <td>18</td>\n",
       "      <td>Role Playing</td>\n",
       "      <td>99</td>\n",
       "    </tr>\n",
       "    <tr>\n",
       "      <td>19</td>\n",
       "      <td>Strategy</td>\n",
       "      <td>78</td>\n",
       "    </tr>\n",
       "    <tr>\n",
       "      <td>20</td>\n",
       "      <td>Music &amp; Audio</td>\n",
       "      <td>1</td>\n",
       "    </tr>\n",
       "    <tr>\n",
       "      <td>21</td>\n",
       "      <td>Health &amp; Fitness</td>\n",
       "      <td>2</td>\n",
       "    </tr>\n",
       "    <tr>\n",
       "      <td>22</td>\n",
       "      <td>Board</td>\n",
       "      <td>18</td>\n",
       "    </tr>\n",
       "    <tr>\n",
       "      <td>23</td>\n",
       "      <td>Video Players &amp; Editors</td>\n",
       "      <td>2</td>\n",
       "    </tr>\n",
       "    <tr>\n",
       "      <td>24</td>\n",
       "      <td>Sports</td>\n",
       "      <td>2</td>\n",
       "    </tr>\n",
       "    <tr>\n",
       "      <td>25</td>\n",
       "      <td>Books &amp; Reference</td>\n",
       "      <td>2</td>\n",
       "    </tr>\n",
       "  </tbody>\n",
       "</table>\n",
       "</div>"
      ],
      "text/plain": [
       "                      Genre  # of Apps\n",
       "0                    Casual        192\n",
       "1               Brain Games         57\n",
       "2                 Adventure         11\n",
       "3        Action & Adventure        106\n",
       "4               Educational         97\n",
       "5                Creativity         21\n",
       "6                    Puzzle        100\n",
       "7                 Education        462\n",
       "8                      Card          3\n",
       "9              Pretend Play         79\n",
       "10               Simulation        188\n",
       "11             Art & Design          2\n",
       "12            Entertainment        388\n",
       "13                    Music          3\n",
       "14            Music & Video         19\n",
       "15                   Arcade         14\n",
       "16                   Action         14\n",
       "17                   Racing         15\n",
       "18             Role Playing         99\n",
       "19                 Strategy         78\n",
       "20            Music & Audio          1\n",
       "21         Health & Fitness          2\n",
       "22                    Board         18\n",
       "23  Video Players & Editors          2\n",
       "24                   Sports          2\n",
       "25        Books & Reference          2"
      ]
     },
     "execution_count": 51,
     "metadata": {},
     "output_type": "execute_result"
    }
   ],
   "source": [
    "#create a datafram from the dictionary fgenres for easier manipulation and visualization\n",
    "fdf = pd.DataFrame(fgenres.items(), columns=[\"Genre\", \"# of Apps\"])\n",
    "fdf"
   ]
  },
  {
   "cell_type": "code",
   "execution_count": 52,
   "metadata": {},
   "outputs": [
    {
     "data": {
      "image/png": "[encoded data removed]",
      "text/plain": [
       "<Figure size 720x720 with 1 Axes>"
      ]
     },
     "metadata": {
      "needs_background": "light"
     },
     "output_type": "display_data"
    }
   ],
   "source": [
    "#ouputs a horizontal bar chart depiciting the number of apps by genre in the family category\n",
    "ax6 = fdf.sort_values(by = '# of Apps').plot.barh('Genre', '# of Apps', color = 'cyan')\n",
    "totals = []\n",
    "for i in ax6.patches:\n",
    "    totals.append(i.get_width())\n",
    "    for i in ax6.patches:\n",
    "        ax6.text(i.get_width(), i.get_y()+.10, str(round(i.get_width(), 2)), fontsize=10, color='black')    \n",
    "        plt.title('# of Apps by Genre in the Family Category')\n",
    "        plt.xlabel('# of Apps')\n",
    "        plt.gcf().set_size_inches(10, 10)\n",
    "        plt.legend(loc = 'lower right')\n",
    "        \n",
    "plt.savefig('C:\\\\Users\\\\Inno Mvula\\\\Desktop\\\\Genre distribution in the family category.png', bbox_inches='tight')\n",
    "plt.show()\n"
   ]
  },
  {
   "cell_type": "code",
   "execution_count": 53,
   "metadata": {},
   "outputs": [],
   "source": [
    "#switiching columns with each other\n",
    "playstore = playstore[['App', 'Category', 'Category NUM', 'Rating', 'Reviews', 'Size', 'Installs', 'Price', 'Content Rating NUM', 'Content Rating', 'Type', 'Type NUM', 'Genres', 'Last Updated', 'Current Ver', 'Android Ver']]"
   ]
  },
  {
   "cell_type": "code",
   "execution_count": 54,
   "metadata": {},
   "outputs": [
    {
     "data": {
      "text/plain": [
       "App                    object\n",
       "Category               object\n",
       "Category NUM            int64\n",
       "Rating                float64\n",
       "Reviews                 int64\n",
       "Size                  float64\n",
       "Installs                int64\n",
       "Price                 float64\n",
       "Content Rating NUM      int64\n",
       "Content Rating         object\n",
       "Type                   object\n",
       "Type NUM                int64\n",
       "Genres                 object\n",
       "Last Updated           object\n",
       "Current Ver            object\n",
       "Android Ver            object\n",
       "dtype: object"
      ]
     },
     "execution_count": 54,
     "metadata": {},
     "output_type": "execute_result"
    }
   ],
   "source": [
    "playstore.dtypes"
   ]
  },
  {
   "cell_type": "code",
   "execution_count": 56,
   "metadata": {},
   "outputs": [],
   "source": [
    "#split values between response variable (y) and explanatory variables (x)\n",
    "x = playstore.values[:, 3:9]\n",
    "y = playstore.values[:,2] "
   ]
  },
  {
   "cell_type": "code",
   "execution_count": 57,
   "metadata": {},
   "outputs": [],
   "source": [
    "#scaling explanatory variables\n",
    "scaled_data = scale(x) "
   ]
  },
  {
   "cell_type": "code",
   "execution_count": 58,
   "metadata": {},
   "outputs": [],
   "source": [
    "n_samples, n_features = scaled_data.shape \n",
    "n_digits = len(np.unique(y)) \n",
    "model = cluster.AgglomerativeClustering(n_clusters=n_digits, linkage=\"average\", affinity=\"cosine\") "
   ]
  },
  {
   "cell_type": "code",
   "execution_count": 59,
   "metadata": {},
   "outputs": [
    {
     "name": "stdout",
     "output_type": "stream",
     "text": [
      "[0 0 0 ... 11 11 18]\n",
      "[ 5 11 29 ... 13 29 29]\n"
     ]
    }
   ],
   "source": [
    "model.fit(scaled_data) \n",
    "print(y) \n",
    "print(model.labels_) "
   ]
  },
  {
   "cell_type": "code",
   "execution_count": 60,
   "metadata": {},
   "outputs": [
    {
     "name": "stdout",
     "output_type": "stream",
     "text": [
      "0.17539991462172605\n",
      "0.12870900152024403\n",
      "0.1094199079624472\n"
     ]
    }
   ],
   "source": [
    "#Print metrics scores\n",
    "print(metrics.silhouette_score(scaled_data, model.labels_)) \n",
    "print(metrics.completeness_score(y, model.labels_)) \n",
    "print(metrics.homogeneity_score(y, model.labels_)) "
   ]
  },
  {
   "cell_type": "code",
   "execution_count": 61,
   "metadata": {},
   "outputs": [],
   "source": [
    "#define metrics scores for easy conversion from dictionary to data frame\n",
    "aa = metrics.silhouette_score(scaled_data, model.labels_)\n",
    "bb = metrics.completeness_score(y, model.labels_)\n",
    "cc = metrics.homogeneity_score(y, model.labels_)"
   ]
  },
  {
   "cell_type": "code",
   "execution_count": 62,
   "metadata": {},
   "outputs": [
    {
     "data": {
      "text/html": [
       "<div>\n",
       "<style scoped>\n",
       "    .dataframe tbody tr th:only-of-type {\n",
       "        vertical-align: middle;\n",
       "    }\n",
       "\n",
       "    .dataframe tbody tr th {\n",
       "        vertical-align: top;\n",
       "    }\n",
       "\n",
       "    .dataframe thead th {\n",
       "        text-align: right;\n",
       "    }\n",
       "</style>\n",
       "<table border=\"1\" class=\"dataframe\">\n",
       "  <thead>\n",
       "    <tr style=\"text-align: right;\">\n",
       "      <th></th>\n",
       "      <th>col1</th>\n",
       "      <th>col2</th>\n",
       "    </tr>\n",
       "  </thead>\n",
       "  <tbody>\n",
       "    <tr>\n",
       "      <td>0</td>\n",
       "      <td>0.175400</td>\n",
       "      <td>0.128709</td>\n",
       "    </tr>\n",
       "    <tr>\n",
       "      <td>1</td>\n",
       "      <td>0.128709</td>\n",
       "      <td>0.109420</td>\n",
       "    </tr>\n",
       "  </tbody>\n",
       "</table>\n",
       "</div>"
      ],
      "text/plain": [
       "       col1      col2\n",
       "0  0.175400  0.128709\n",
       "1  0.128709  0.109420"
      ]
     },
     "execution_count": 62,
     "metadata": {},
     "output_type": "execute_result"
    }
   ],
   "source": [
    "\n",
    "dd = {'col1': [aa, bb], 'col2': [bb, cc]}\n",
    "df = pd.DataFrame(data=dd)\n",
    "df"
   ]
  },
  {
   "cell_type": "code",
   "execution_count": 63,
   "metadata": {},
   "outputs": [
    {
     "data": {
      "text/html": [
       "<div>\n",
       "<style scoped>\n",
       "    .dataframe tbody tr th:only-of-type {\n",
       "        vertical-align: middle;\n",
       "    }\n",
       "\n",
       "    .dataframe tbody tr th {\n",
       "        vertical-align: top;\n",
       "    }\n",
       "\n",
       "    .dataframe thead th {\n",
       "        text-align: right;\n",
       "    }\n",
       "</style>\n",
       "<table border=\"1\" class=\"dataframe\">\n",
       "  <thead>\n",
       "    <tr style=\"text-align: right;\">\n",
       "      <th></th>\n",
       "      <th>col1</th>\n",
       "      <th>col2</th>\n",
       "    </tr>\n",
       "  </thead>\n",
       "  <tbody>\n",
       "    <tr>\n",
       "      <td>0</td>\n",
       "      <td>1</td>\n",
       "      <td>3</td>\n",
       "    </tr>\n",
       "    <tr>\n",
       "      <td>1</td>\n",
       "      <td>2</td>\n",
       "      <td>4</td>\n",
       "    </tr>\n",
       "  </tbody>\n",
       "</table>\n",
       "</div>"
      ],
      "text/plain": [
       "   col1  col2\n",
       "0     1     3\n",
       "1     2     4"
      ]
     },
     "execution_count": 63,
     "metadata": {},
     "output_type": "execute_result"
    }
   ],
   "source": [
    "d = {'col1': [1, 2], 'col2': [3, 4]}\n",
    "df = pd.DataFrame(data=d)\n",
    "df"
   ]
  },
  {
   "cell_type": "code",
   "execution_count": 64,
   "metadata": {},
   "outputs": [
    {
     "data": {
      "text/plain": [
       "{'col1': [1, 2], 'col2': [3, 4]}"
      ]
     },
     "execution_count": 64,
     "metadata": {},
     "output_type": "execute_result"
    }
   ],
   "source": [
    "d"
   ]
  },
  {
   "cell_type": "code",
   "execution_count": 101,
   "metadata": {},
   "outputs": [
    {
     "name": "stdout",
     "output_type": "stream",
     "text": [
      "{('euclidean', 'ward'): [0.30022241110161435, 0.11867758828544896, 0.11383095583301986], ('euclidean', 'complete'): [0.3083908892570506, 0.14538370638503648, 0.0921309656212539], ('euclidean', 'average'): [0.3534503710576604, 0.2121574517478113, 0.07198648720617686], ('manhattan', 'complete'): [0.30442537900924627, 0.1526870891139812, 0.0970112739573037], ('manhattan', 'average'): [0.2619572095746991, 0.20402981230716324, 0.06990025882085146], ('cosine', 'complete'): [0.11702416377721804, 0.12053666306621642, 0.11180521059219652], ('cosine', 'average'): [0.17539991462172605, 0.12870900152024403, 0.1094199079624472]}\n"
     ]
    }
   ],
   "source": [
    "#prints metrics scores of different clustering strategies as a dictionary\n",
    "aff = [\"euclidean\", \"manhattan\", \"cosine\"] \n",
    "link = [\"ward\", \"complete\", \"average\"]\n",
    "ii = {}\n",
    "for a in aff: \n",
    "    for l in link: \n",
    "        if(l==\"ward\" and a!=\"euclidean\"): \n",
    "           continue \n",
    "        else: \n",
    "            ee = a,l \n",
    "            model = cluster.AgglomerativeClustering(n_clusters=n_digits, linkage=l, affinity=a) \n",
    "            model.fit(scaled_data) \n",
    "            ff = metrics.silhouette_score(scaled_data, model.labels_)\n",
    "            gg = metrics.completeness_score(y, model.labels_)\n",
    "            hh = metrics.homogeneity_score(y, model.labels_)\n",
    "            jj = {ee: [ff, gg, hh]}\n",
    "            ii.update(jj)\n",
    "print(ii)\n",
    "            \n",
    "            "
   ]
  },
  {
   "cell_type": "code",
   "execution_count": 102,
   "metadata": {},
   "outputs": [
    {
     "data": {
      "text/html": [
       "<div>\n",
       "<style scoped>\n",
       "    .dataframe tbody tr th:only-of-type {\n",
       "        vertical-align: middle;\n",
       "    }\n",
       "\n",
       "    .dataframe tbody tr th {\n",
       "        vertical-align: top;\n",
       "    }\n",
       "\n",
       "    .dataframe thead tr th {\n",
       "        text-align: left;\n",
       "    }\n",
       "</style>\n",
       "<table border=\"1\" class=\"dataframe\">\n",
       "  <thead>\n",
       "    <tr>\n",
       "      <th></th>\n",
       "      <th colspan=\"3\" halign=\"left\">euclidean</th>\n",
       "      <th colspan=\"2\" halign=\"left\">manhattan</th>\n",
       "      <th colspan=\"2\" halign=\"left\">cosine</th>\n",
       "    </tr>\n",
       "    <tr>\n",
       "      <th></th>\n",
       "      <th>ward</th>\n",
       "      <th>complete</th>\n",
       "      <th>average</th>\n",
       "      <th>complete</th>\n",
       "      <th>average</th>\n",
       "      <th>complete</th>\n",
       "      <th>average</th>\n",
       "    </tr>\n",
       "  </thead>\n",
       "  <tbody>\n",
       "    <tr>\n",
       "      <td>0</td>\n",
       "      <td>0.300222</td>\n",
       "      <td>0.308391</td>\n",
       "      <td>0.353450</td>\n",
       "      <td>0.304425</td>\n",
       "      <td>0.261957</td>\n",
       "      <td>0.117024</td>\n",
       "      <td>0.175400</td>\n",
       "    </tr>\n",
       "    <tr>\n",
       "      <td>1</td>\n",
       "      <td>0.118678</td>\n",
       "      <td>0.145384</td>\n",
       "      <td>0.212157</td>\n",
       "      <td>0.152687</td>\n",
       "      <td>0.204030</td>\n",
       "      <td>0.120537</td>\n",
       "      <td>0.128709</td>\n",
       "    </tr>\n",
       "    <tr>\n",
       "      <td>2</td>\n",
       "      <td>0.113831</td>\n",
       "      <td>0.092131</td>\n",
       "      <td>0.071986</td>\n",
       "      <td>0.097011</td>\n",
       "      <td>0.069900</td>\n",
       "      <td>0.111805</td>\n",
       "      <td>0.109420</td>\n",
       "    </tr>\n",
       "  </tbody>\n",
       "</table>\n",
       "</div>"
      ],
      "text/plain": [
       "  euclidean                     manhattan              cosine          \n",
       "       ward  complete   average  complete   average  complete   average\n",
       "0  0.300222  0.308391  0.353450  0.304425  0.261957  0.117024  0.175400\n",
       "1  0.118678  0.145384  0.212157  0.152687  0.204030  0.120537  0.128709\n",
       "2  0.113831  0.092131  0.071986  0.097011  0.069900  0.111805  0.109420"
      ]
     },
     "execution_count": 102,
     "metadata": {},
     "output_type": "execute_result"
    }
   ],
   "source": [
    "#transformation of dictionary ii to data frame\n",
    "ag_clust = pd.DataFrame(data=ii)\n",
    "ag_clust"
   ]
  },
  {
   "cell_type": "code",
   "execution_count": null,
   "metadata": {},
   "outputs": [],
   "source": []
  },
  {
   "cell_type": "code",
   "execution_count": 104,
   "metadata": {},
   "outputs": [],
   "source": [
    "#renaming data frame columns\n",
    "ag_clust.columns = ['euclidean ward', 'euclidean complete','euclidean average', 'manhattan complete', 'manhattan average','cosine complete', 'cosine average']"
   ]
  },
  {
   "cell_type": "code",
   "execution_count": 106,
   "metadata": {},
   "outputs": [],
   "source": [
    "#transposing columns so that metrics in the columns\n",
    "ag_clust = ag_clust[['euclidean ward', 'euclidean complete','euclidean average', 'manhattan complete', 'manhattan average','cosine complete', 'cosine average']]\n",
    "clust_ag = ag_clust.transpose()"
   ]
  },
  {
   "cell_type": "code",
   "execution_count": 107,
   "metadata": {},
   "outputs": [
    {
     "data": {
      "text/html": [
       "<div>\n",
       "<style scoped>\n",
       "    .dataframe tbody tr th:only-of-type {\n",
       "        vertical-align: middle;\n",
       "    }\n",
       "\n",
       "    .dataframe tbody tr th {\n",
       "        vertical-align: top;\n",
       "    }\n",
       "\n",
       "    .dataframe thead th {\n",
       "        text-align: right;\n",
       "    }\n",
       "</style>\n",
       "<table border=\"1\" class=\"dataframe\">\n",
       "  <thead>\n",
       "    <tr style=\"text-align: right;\">\n",
       "      <th></th>\n",
       "      <th>Silhouette</th>\n",
       "      <th>Completeness</th>\n",
       "      <th>Homogeneity</th>\n",
       "    </tr>\n",
       "  </thead>\n",
       "  <tbody>\n",
       "    <tr>\n",
       "      <td>euclidean ward</td>\n",
       "      <td>0.300222</td>\n",
       "      <td>0.118678</td>\n",
       "      <td>0.113831</td>\n",
       "    </tr>\n",
       "    <tr>\n",
       "      <td>euclidean complete</td>\n",
       "      <td>0.308391</td>\n",
       "      <td>0.145384</td>\n",
       "      <td>0.092131</td>\n",
       "    </tr>\n",
       "    <tr>\n",
       "      <td>euclidean average</td>\n",
       "      <td>0.353450</td>\n",
       "      <td>0.212157</td>\n",
       "      <td>0.071986</td>\n",
       "    </tr>\n",
       "    <tr>\n",
       "      <td>manhattan complete</td>\n",
       "      <td>0.304425</td>\n",
       "      <td>0.152687</td>\n",
       "      <td>0.097011</td>\n",
       "    </tr>\n",
       "    <tr>\n",
       "      <td>manhattan average</td>\n",
       "      <td>0.261957</td>\n",
       "      <td>0.204030</td>\n",
       "      <td>0.069900</td>\n",
       "    </tr>\n",
       "    <tr>\n",
       "      <td>cosine complete</td>\n",
       "      <td>0.117024</td>\n",
       "      <td>0.120537</td>\n",
       "      <td>0.111805</td>\n",
       "    </tr>\n",
       "    <tr>\n",
       "      <td>cosine average</td>\n",
       "      <td>0.175400</td>\n",
       "      <td>0.128709</td>\n",
       "      <td>0.109420</td>\n",
       "    </tr>\n",
       "  </tbody>\n",
       "</table>\n",
       "</div>"
      ],
      "text/plain": [
       "                    Silhouette  Completeness  Homogeneity\n",
       "euclidean ward        0.300222      0.118678     0.113831\n",
       "euclidean complete    0.308391      0.145384     0.092131\n",
       "euclidean average     0.353450      0.212157     0.071986\n",
       "manhattan complete    0.304425      0.152687     0.097011\n",
       "manhattan average     0.261957      0.204030     0.069900\n",
       "cosine complete       0.117024      0.120537     0.111805\n",
       "cosine average        0.175400      0.128709     0.109420"
      ]
     },
     "execution_count": 107,
     "metadata": {},
     "output_type": "execute_result"
    }
   ],
   "source": [
    "# renaming columns to proper metric names\n",
    "clust_ag.columns = ['Silhouette', 'Completeness', 'Homogeneity']\n",
    "clust_ag"
   ]
  },
  {
   "cell_type": "code",
   "execution_count": 108,
   "metadata": {},
   "outputs": [
    {
     "data": {
      "image/png": "[encoded data removed]",
      "text/plain": [
       "<Figure size 720x360 with 1 Axes>"
      ]
     },
     "metadata": {
      "needs_background": "light"
     },
     "output_type": "display_data"
    }
   ],
   "source": [
    "#outputs a plot of each metric in each clustering strategy\n",
    "clust_ag.plot.bar(cmap = 'cool')\n",
    "plt.title('Metrics Evaluations')\n",
    "plt.xlabel('Distance Metrics')\n",
    "plt.gcf().set_size_inches(10, 5)\n",
    "plt.legend(loc = 'upper right')\n",
    "plt.savefig('C:\\\\Users\\\\Inno Mvula\\\\Desktop\\\\Metrics Evaluation.png', bbox_inches='tight')\n",
    "plt.show()\n"
   ]
  },
  {
   "cell_type": "code",
   "execution_count": 112,
   "metadata": {},
   "outputs": [
    {
     "data": {
      "image/png": "[encoded data removed]",
      "text/plain": [
       "<Figure size 720x360 with 1 Axes>"
      ]
     },
     "metadata": {
      "needs_background": "light"
     },
     "output_type": "display_data"
    }
   ],
   "source": [
    "#outputs a dendrogram using agglomerative clustering using ward linkage\n",
    "model = linkage(scaled_data, 'ward')\n",
    "plt.figure()\n",
    "plt.title('Hierarchical Clustering Dendrogram (Ward)')\n",
    "plt.xlabel('sample index')\n",
    "plt.ylabel('distance')\n",
    "dendrogram(model, leaf_rotation=90, leaf_font_size=8)\n",
    "plt.gcf().set_size_inches(10, 5)\n",
    "plt.savefig('C:\\\\Users\\\\Inno Mvula\\\\Desktop\\\\cluster dendrogram ward.png', bbox_inches='tight')\n",
    "plt.show()"
   ]
  },
  {
   "cell_type": "code",
   "execution_count": 113,
   "metadata": {},
   "outputs": [
    {
     "data": {
      "image/png": "[encoded data removed]",
      "text/plain": [
       "<Figure size 720x360 with 1 Axes>"
      ]
     },
     "metadata": {
      "needs_background": "light"
     },
     "output_type": "display_data"
    }
   ],
   "source": [
    "#outputs a dendrogram using agglomerative clustering using average linkage\n",
    "model = linkage(scaled_data, 'average')\n",
    "plt.figure()\n",
    "plt.title('Hierarchical Clustering Dendrogram (Average)')\n",
    "plt.xlabel('sample index')\n",
    "plt.ylabel('distance')\n",
    "dendrogram(model, leaf_rotation=90, leaf_font_size=8)\n",
    "plt.gcf().set_size_inches(10, 5)\n",
    "plt.savefig('C:\\\\Users\\\\Inno Mvula\\\\Desktop\\\\cluster dendrogram average.png', bbox_inches='tight')\n",
    "plt.show()        "
   ]
  },
  {
   "cell_type": "code",
   "execution_count": 114,
   "metadata": {},
   "outputs": [
    {
     "data": {
      "image/png": "[encoded data removed]",
      "text/plain": [
       "<Figure size 720x360 with 1 Axes>"
      ]
     },
     "metadata": {
      "needs_background": "light"
     },
     "output_type": "display_data"
    }
   ],
   "source": [
    "#outputs a dendrogram using agglomerative clustering using complete linkage\n",
    "model = linkage(scaled_data, 'complete')\n",
    "plt.figure()\n",
    "plt.title('Hierarchical Clustering Dendrogram (Complete)')\n",
    "plt.xlabel('sample index')\n",
    "plt.ylabel('distance')\n",
    "dendrogram(model, leaf_rotation=90, leaf_font_size=8)\n",
    "plt.gcf().set_size_inches(10, 5)\n",
    "plt.savefig('C:\\\\Users\\\\Inno Mvula\\\\Desktop\\\\cluster dendrogram complete.png', bbox_inches='tight')\n",
    "plt.show()  "
   ]
  },
  {
   "cell_type": "code",
   "execution_count": 115,
   "metadata": {},
   "outputs": [
    {
     "name": "stdout",
     "output_type": "stream",
     "text": [
      "{2: [0.478267786831086, 0.2729885458866698, 0.043737054430647765], 3: [0.4515850339825354, 0.26057587906492286, 0.04280628085380255], 4: [0.46210089988682, 0.26080191849136264, 0.04402064147827256], 5: [0.42548775672362205, 0.20095825538909276, 0.060380372488959666], 6: [0.4412040299685145, 0.15357631713416456, 0.06161909191833907], 7: [0.43846704057045005, 0.153329965670714, 0.06577415307218559], 8: [0.4412295312988951, 0.15424317814870944, 0.06651807711802939], 9: [0.3483537639439404, 0.1291448924081677, 0.06853580807048912], 10: [0.3626448178382743, 0.1364313148907644, 0.07479531067345992], 11: [0.35339577275381145, 0.1343660264578738, 0.07534185758441696], 12: [0.36094870975622423, 0.1294666970831784, 0.07888328940358554], 13: [0.36177769115321384, 0.12929292408296772, 0.07882853868254992], 14: [0.3363971344574994, 0.12175580200583837, 0.08214796732327265], 15: [0.3496711479826952, 0.12379425185215989, 0.08141497531954985], 16: [0.3480378072821501, 0.12456486437714978, 0.08589784167962879], 17: [0.34399077521552524, 0.11995063634774268, 0.08598942155982346], 18: [0.3190762159107779, 0.1151420848710191, 0.08688711545933721], 19: [0.3380979577345676, 0.12432521958213925, 0.09013271685205018], 20: [0.3166734987374507, 0.11442582183178, 0.0916894653994888], 21: [0.32202630882020594, 0.11676398128929852, 0.09447741549447503], 22: [0.31821539668470383, 0.11547441866438855, 0.09523523794886397], 23: [0.33366186561065975, 0.1168066382186093, 0.0977817014758474], 24: [0.31757382995300737, 0.11772763173217264, 0.10162309618808331], 25: [0.32002290604893086, 0.1153061882099142, 0.09908818055974927], 26: [0.32080463990090596, 0.11340562304060077, 0.10007079999174355], 27: [0.3158237854701419, 0.11525241832358668, 0.10441319726136647], 28: [0.32685549606437114, 0.11762584133468636, 0.10846898257973778], 29: [0.3301237305903416, 0.12167591273965002, 0.11121890842842837], 30: [0.32299639115829964, 0.11558606030274289, 0.10814880973788253], 31: [0.32450497925637856, 0.11771315751257355, 0.11130853138758522], 32: [0.31887127974125423, 0.11864754316421881, 0.1162554735591892], 33: [0.32427204397704346, 0.11422906130390094, 0.11265020283542314], 34: [0.3235982782935359, 0.11869719010818786, 0.11670476248329663], 35: [0.3209957227226445, 0.11640360146186815, 0.11703470877566821], 36: [0.31662447008416944, 0.11659356645671218, 0.11928289445716171], 37: [0.3169080030932404, 0.11500792514302448, 0.11928319416622009], 38: [0.33120343221758514, 0.12184828766325952, 0.12333090987004694], 39: [0.3245608106337053, 0.11685154439274643, 0.12177276803958254], 40: [0.3205481486478695, 0.11680134676972537, 0.12271610583975413], 41: [0.32196371108185323, 0.11780648560113048, 0.12353612941319751], 42: [0.32591179015124394, 0.11982117260100736, 0.12773737943695293], 43: [0.3230463600134715, 0.12036832302696669, 0.12784722204433913], 44: [0.32376560276974614, 0.12131948666919949, 0.13034945599622721], 45: [0.3217428821018142, 0.1180906217965962, 0.12745659758966119], 46: [0.32271569729457283, 0.11950330941811284, 0.1307063569051196], 47: [0.32823425109856164, 0.11957814976575222, 0.12998626018018372], 48: [0.32249694908649323, 0.1190350964130474, 0.1335264554187237], 49: [0.3364094007395003, 0.12353565982506669, 0.13386867208648984]}\n"
     ]
    }
   ],
   "source": [
    "#prints a dictionary of different metric scores for different number of clusters\n",
    "kk ={}\n",
    "for k in range(2, 50):     \n",
    "    kmeans = cluster.KMeans(n_clusters=k)\n",
    "    kmeans.fit(scaled_data)\n",
    "    ll = k\n",
    "    mm = metrics.silhouette_score(scaled_data, kmeans.labels_)\n",
    "    nn = metrics.completeness_score(y, kmeans.labels_)\n",
    "    oo = metrics.homogeneity_score(y, kmeans.labels_)\n",
    "    pp = {ll: [mm, nn, oo]}\n",
    "    kk.update(pp)\n",
    "print(kk)"
   ]
  },
  {
   "cell_type": "code",
   "execution_count": 116,
   "metadata": {},
   "outputs": [
    {
     "data": {
      "text/html": [
       "<div>\n",
       "<style scoped>\n",
       "    .dataframe tbody tr th:only-of-type {\n",
       "        vertical-align: middle;\n",
       "    }\n",
       "\n",
       "    .dataframe tbody tr th {\n",
       "        vertical-align: top;\n",
       "    }\n",
       "\n",
       "    .dataframe thead th {\n",
       "        text-align: right;\n",
       "    }\n",
       "</style>\n",
       "<table border=\"1\" class=\"dataframe\">\n",
       "  <thead>\n",
       "    <tr style=\"text-align: right;\">\n",
       "      <th></th>\n",
       "      <th>2</th>\n",
       "      <th>3</th>\n",
       "      <th>4</th>\n",
       "      <th>5</th>\n",
       "      <th>6</th>\n",
       "      <th>7</th>\n",
       "      <th>8</th>\n",
       "      <th>9</th>\n",
       "      <th>10</th>\n",
       "      <th>11</th>\n",
       "      <th>...</th>\n",
       "      <th>40</th>\n",
       "      <th>41</th>\n",
       "      <th>42</th>\n",
       "      <th>43</th>\n",
       "      <th>44</th>\n",
       "      <th>45</th>\n",
       "      <th>46</th>\n",
       "      <th>47</th>\n",
       "      <th>48</th>\n",
       "      <th>49</th>\n",
       "    </tr>\n",
       "  </thead>\n",
       "  <tbody>\n",
       "    <tr>\n",
       "      <td>0</td>\n",
       "      <td>0.478268</td>\n",
       "      <td>0.451585</td>\n",
       "      <td>0.462101</td>\n",
       "      <td>0.425488</td>\n",
       "      <td>0.441204</td>\n",
       "      <td>0.438467</td>\n",
       "      <td>0.441230</td>\n",
       "      <td>0.348354</td>\n",
       "      <td>0.362645</td>\n",
       "      <td>0.353396</td>\n",
       "      <td>...</td>\n",
       "      <td>0.320548</td>\n",
       "      <td>0.321964</td>\n",
       "      <td>0.325912</td>\n",
       "      <td>0.323046</td>\n",
       "      <td>0.323766</td>\n",
       "      <td>0.321743</td>\n",
       "      <td>0.322716</td>\n",
       "      <td>0.328234</td>\n",
       "      <td>0.322497</td>\n",
       "      <td>0.336409</td>\n",
       "    </tr>\n",
       "    <tr>\n",
       "      <td>1</td>\n",
       "      <td>0.272989</td>\n",
       "      <td>0.260576</td>\n",
       "      <td>0.260802</td>\n",
       "      <td>0.200958</td>\n",
       "      <td>0.153576</td>\n",
       "      <td>0.153330</td>\n",
       "      <td>0.154243</td>\n",
       "      <td>0.129145</td>\n",
       "      <td>0.136431</td>\n",
       "      <td>0.134366</td>\n",
       "      <td>...</td>\n",
       "      <td>0.116801</td>\n",
       "      <td>0.117806</td>\n",
       "      <td>0.119821</td>\n",
       "      <td>0.120368</td>\n",
       "      <td>0.121319</td>\n",
       "      <td>0.118091</td>\n",
       "      <td>0.119503</td>\n",
       "      <td>0.119578</td>\n",
       "      <td>0.119035</td>\n",
       "      <td>0.123536</td>\n",
       "    </tr>\n",
       "    <tr>\n",
       "      <td>2</td>\n",
       "      <td>0.043737</td>\n",
       "      <td>0.042806</td>\n",
       "      <td>0.044021</td>\n",
       "      <td>0.060380</td>\n",
       "      <td>0.061619</td>\n",
       "      <td>0.065774</td>\n",
       "      <td>0.066518</td>\n",
       "      <td>0.068536</td>\n",
       "      <td>0.074795</td>\n",
       "      <td>0.075342</td>\n",
       "      <td>...</td>\n",
       "      <td>0.122716</td>\n",
       "      <td>0.123536</td>\n",
       "      <td>0.127737</td>\n",
       "      <td>0.127847</td>\n",
       "      <td>0.130349</td>\n",
       "      <td>0.127457</td>\n",
       "      <td>0.130706</td>\n",
       "      <td>0.129986</td>\n",
       "      <td>0.133526</td>\n",
       "      <td>0.133869</td>\n",
       "    </tr>\n",
       "  </tbody>\n",
       "</table>\n",
       "<p>3 rows × 48 columns</p>\n",
       "</div>"
      ],
      "text/plain": [
       "         2         3         4         5         6         7         8   \\\n",
       "0  0.478268  0.451585  0.462101  0.425488  0.441204  0.438467  0.441230   \n",
       "1  0.272989  0.260576  0.260802  0.200958  0.153576  0.153330  0.154243   \n",
       "2  0.043737  0.042806  0.044021  0.060380  0.061619  0.065774  0.066518   \n",
       "\n",
       "         9         10        11  ...        40        41        42        43  \\\n",
       "0  0.348354  0.362645  0.353396  ...  0.320548  0.321964  0.325912  0.323046   \n",
       "1  0.129145  0.136431  0.134366  ...  0.116801  0.117806  0.119821  0.120368   \n",
       "2  0.068536  0.074795  0.075342  ...  0.122716  0.123536  0.127737  0.127847   \n",
       "\n",
       "         44        45        46        47        48        49  \n",
       "0  0.323766  0.321743  0.322716  0.328234  0.322497  0.336409  \n",
       "1  0.121319  0.118091  0.119503  0.119578  0.119035  0.123536  \n",
       "2  0.130349  0.127457  0.130706  0.129986  0.133526  0.133869  \n",
       "\n",
       "[3 rows x 48 columns]"
      ]
     },
     "execution_count": 116,
     "metadata": {},
     "output_type": "execute_result"
    }
   ],
   "source": [
    "#transforming dictionary kk to a data fram\n",
    "k_clust = pd.DataFrame(data=kk)\n",
    "k_clust"
   ]
  },
  {
   "cell_type": "code",
   "execution_count": 117,
   "metadata": {},
   "outputs": [
    {
     "data": {
      "text/html": [
       "<div>\n",
       "<style scoped>\n",
       "    .dataframe tbody tr th:only-of-type {\n",
       "        vertical-align: middle;\n",
       "    }\n",
       "\n",
       "    .dataframe tbody tr th {\n",
       "        vertical-align: top;\n",
       "    }\n",
       "\n",
       "    .dataframe thead th {\n",
       "        text-align: right;\n",
       "    }\n",
       "</style>\n",
       "<table border=\"1\" class=\"dataframe\">\n",
       "  <thead>\n",
       "    <tr style=\"text-align: right;\">\n",
       "      <th></th>\n",
       "      <th>Silhouette</th>\n",
       "      <th>Completeness</th>\n",
       "      <th>Homogeneity</th>\n",
       "    </tr>\n",
       "  </thead>\n",
       "  <tbody>\n",
       "    <tr>\n",
       "      <td>2</td>\n",
       "      <td>0.478268</td>\n",
       "      <td>0.272989</td>\n",
       "      <td>0.043737</td>\n",
       "    </tr>\n",
       "    <tr>\n",
       "      <td>3</td>\n",
       "      <td>0.451585</td>\n",
       "      <td>0.260576</td>\n",
       "      <td>0.042806</td>\n",
       "    </tr>\n",
       "    <tr>\n",
       "      <td>4</td>\n",
       "      <td>0.462101</td>\n",
       "      <td>0.260802</td>\n",
       "      <td>0.044021</td>\n",
       "    </tr>\n",
       "    <tr>\n",
       "      <td>5</td>\n",
       "      <td>0.425488</td>\n",
       "      <td>0.200958</td>\n",
       "      <td>0.060380</td>\n",
       "    </tr>\n",
       "    <tr>\n",
       "      <td>6</td>\n",
       "      <td>0.441204</td>\n",
       "      <td>0.153576</td>\n",
       "      <td>0.061619</td>\n",
       "    </tr>\n",
       "    <tr>\n",
       "      <td>7</td>\n",
       "      <td>0.438467</td>\n",
       "      <td>0.153330</td>\n",
       "      <td>0.065774</td>\n",
       "    </tr>\n",
       "    <tr>\n",
       "      <td>8</td>\n",
       "      <td>0.441230</td>\n",
       "      <td>0.154243</td>\n",
       "      <td>0.066518</td>\n",
       "    </tr>\n",
       "    <tr>\n",
       "      <td>9</td>\n",
       "      <td>0.348354</td>\n",
       "      <td>0.129145</td>\n",
       "      <td>0.068536</td>\n",
       "    </tr>\n",
       "    <tr>\n",
       "      <td>10</td>\n",
       "      <td>0.362645</td>\n",
       "      <td>0.136431</td>\n",
       "      <td>0.074795</td>\n",
       "    </tr>\n",
       "    <tr>\n",
       "      <td>11</td>\n",
       "      <td>0.353396</td>\n",
       "      <td>0.134366</td>\n",
       "      <td>0.075342</td>\n",
       "    </tr>\n",
       "    <tr>\n",
       "      <td>12</td>\n",
       "      <td>0.360949</td>\n",
       "      <td>0.129467</td>\n",
       "      <td>0.078883</td>\n",
       "    </tr>\n",
       "    <tr>\n",
       "      <td>13</td>\n",
       "      <td>0.361778</td>\n",
       "      <td>0.129293</td>\n",
       "      <td>0.078829</td>\n",
       "    </tr>\n",
       "    <tr>\n",
       "      <td>14</td>\n",
       "      <td>0.336397</td>\n",
       "      <td>0.121756</td>\n",
       "      <td>0.082148</td>\n",
       "    </tr>\n",
       "    <tr>\n",
       "      <td>15</td>\n",
       "      <td>0.349671</td>\n",
       "      <td>0.123794</td>\n",
       "      <td>0.081415</td>\n",
       "    </tr>\n",
       "    <tr>\n",
       "      <td>16</td>\n",
       "      <td>0.348038</td>\n",
       "      <td>0.124565</td>\n",
       "      <td>0.085898</td>\n",
       "    </tr>\n",
       "    <tr>\n",
       "      <td>17</td>\n",
       "      <td>0.343991</td>\n",
       "      <td>0.119951</td>\n",
       "      <td>0.085989</td>\n",
       "    </tr>\n",
       "    <tr>\n",
       "      <td>18</td>\n",
       "      <td>0.319076</td>\n",
       "      <td>0.115142</td>\n",
       "      <td>0.086887</td>\n",
       "    </tr>\n",
       "    <tr>\n",
       "      <td>19</td>\n",
       "      <td>0.338098</td>\n",
       "      <td>0.124325</td>\n",
       "      <td>0.090133</td>\n",
       "    </tr>\n",
       "    <tr>\n",
       "      <td>20</td>\n",
       "      <td>0.316673</td>\n",
       "      <td>0.114426</td>\n",
       "      <td>0.091689</td>\n",
       "    </tr>\n",
       "    <tr>\n",
       "      <td>21</td>\n",
       "      <td>0.322026</td>\n",
       "      <td>0.116764</td>\n",
       "      <td>0.094477</td>\n",
       "    </tr>\n",
       "    <tr>\n",
       "      <td>22</td>\n",
       "      <td>0.318215</td>\n",
       "      <td>0.115474</td>\n",
       "      <td>0.095235</td>\n",
       "    </tr>\n",
       "    <tr>\n",
       "      <td>23</td>\n",
       "      <td>0.333662</td>\n",
       "      <td>0.116807</td>\n",
       "      <td>0.097782</td>\n",
       "    </tr>\n",
       "    <tr>\n",
       "      <td>24</td>\n",
       "      <td>0.317574</td>\n",
       "      <td>0.117728</td>\n",
       "      <td>0.101623</td>\n",
       "    </tr>\n",
       "    <tr>\n",
       "      <td>25</td>\n",
       "      <td>0.320023</td>\n",
       "      <td>0.115306</td>\n",
       "      <td>0.099088</td>\n",
       "    </tr>\n",
       "    <tr>\n",
       "      <td>26</td>\n",
       "      <td>0.320805</td>\n",
       "      <td>0.113406</td>\n",
       "      <td>0.100071</td>\n",
       "    </tr>\n",
       "    <tr>\n",
       "      <td>27</td>\n",
       "      <td>0.315824</td>\n",
       "      <td>0.115252</td>\n",
       "      <td>0.104413</td>\n",
       "    </tr>\n",
       "    <tr>\n",
       "      <td>28</td>\n",
       "      <td>0.326855</td>\n",
       "      <td>0.117626</td>\n",
       "      <td>0.108469</td>\n",
       "    </tr>\n",
       "    <tr>\n",
       "      <td>29</td>\n",
       "      <td>0.330124</td>\n",
       "      <td>0.121676</td>\n",
       "      <td>0.111219</td>\n",
       "    </tr>\n",
       "    <tr>\n",
       "      <td>30</td>\n",
       "      <td>0.322996</td>\n",
       "      <td>0.115586</td>\n",
       "      <td>0.108149</td>\n",
       "    </tr>\n",
       "    <tr>\n",
       "      <td>31</td>\n",
       "      <td>0.324505</td>\n",
       "      <td>0.117713</td>\n",
       "      <td>0.111309</td>\n",
       "    </tr>\n",
       "    <tr>\n",
       "      <td>32</td>\n",
       "      <td>0.318871</td>\n",
       "      <td>0.118648</td>\n",
       "      <td>0.116255</td>\n",
       "    </tr>\n",
       "    <tr>\n",
       "      <td>33</td>\n",
       "      <td>0.324272</td>\n",
       "      <td>0.114229</td>\n",
       "      <td>0.112650</td>\n",
       "    </tr>\n",
       "    <tr>\n",
       "      <td>34</td>\n",
       "      <td>0.323598</td>\n",
       "      <td>0.118697</td>\n",
       "      <td>0.116705</td>\n",
       "    </tr>\n",
       "    <tr>\n",
       "      <td>35</td>\n",
       "      <td>0.320996</td>\n",
       "      <td>0.116404</td>\n",
       "      <td>0.117035</td>\n",
       "    </tr>\n",
       "    <tr>\n",
       "      <td>36</td>\n",
       "      <td>0.316624</td>\n",
       "      <td>0.116594</td>\n",
       "      <td>0.119283</td>\n",
       "    </tr>\n",
       "    <tr>\n",
       "      <td>37</td>\n",
       "      <td>0.316908</td>\n",
       "      <td>0.115008</td>\n",
       "      <td>0.119283</td>\n",
       "    </tr>\n",
       "    <tr>\n",
       "      <td>38</td>\n",
       "      <td>0.331203</td>\n",
       "      <td>0.121848</td>\n",
       "      <td>0.123331</td>\n",
       "    </tr>\n",
       "    <tr>\n",
       "      <td>39</td>\n",
       "      <td>0.324561</td>\n",
       "      <td>0.116852</td>\n",
       "      <td>0.121773</td>\n",
       "    </tr>\n",
       "    <tr>\n",
       "      <td>40</td>\n",
       "      <td>0.320548</td>\n",
       "      <td>0.116801</td>\n",
       "      <td>0.122716</td>\n",
       "    </tr>\n",
       "    <tr>\n",
       "      <td>41</td>\n",
       "      <td>0.321964</td>\n",
       "      <td>0.117806</td>\n",
       "      <td>0.123536</td>\n",
       "    </tr>\n",
       "    <tr>\n",
       "      <td>42</td>\n",
       "      <td>0.325912</td>\n",
       "      <td>0.119821</td>\n",
       "      <td>0.127737</td>\n",
       "    </tr>\n",
       "    <tr>\n",
       "      <td>43</td>\n",
       "      <td>0.323046</td>\n",
       "      <td>0.120368</td>\n",
       "      <td>0.127847</td>\n",
       "    </tr>\n",
       "    <tr>\n",
       "      <td>44</td>\n",
       "      <td>0.323766</td>\n",
       "      <td>0.121319</td>\n",
       "      <td>0.130349</td>\n",
       "    </tr>\n",
       "    <tr>\n",
       "      <td>45</td>\n",
       "      <td>0.321743</td>\n",
       "      <td>0.118091</td>\n",
       "      <td>0.127457</td>\n",
       "    </tr>\n",
       "    <tr>\n",
       "      <td>46</td>\n",
       "      <td>0.322716</td>\n",
       "      <td>0.119503</td>\n",
       "      <td>0.130706</td>\n",
       "    </tr>\n",
       "    <tr>\n",
       "      <td>47</td>\n",
       "      <td>0.328234</td>\n",
       "      <td>0.119578</td>\n",
       "      <td>0.129986</td>\n",
       "    </tr>\n",
       "    <tr>\n",
       "      <td>48</td>\n",
       "      <td>0.322497</td>\n",
       "      <td>0.119035</td>\n",
       "      <td>0.133526</td>\n",
       "    </tr>\n",
       "    <tr>\n",
       "      <td>49</td>\n",
       "      <td>0.336409</td>\n",
       "      <td>0.123536</td>\n",
       "      <td>0.133869</td>\n",
       "    </tr>\n",
       "  </tbody>\n",
       "</table>\n",
       "</div>"
      ],
      "text/plain": [
       "    Silhouette  Completeness  Homogeneity\n",
       "2     0.478268      0.272989     0.043737\n",
       "3     0.451585      0.260576     0.042806\n",
       "4     0.462101      0.260802     0.044021\n",
       "5     0.425488      0.200958     0.060380\n",
       "6     0.441204      0.153576     0.061619\n",
       "7     0.438467      0.153330     0.065774\n",
       "8     0.441230      0.154243     0.066518\n",
       "9     0.348354      0.129145     0.068536\n",
       "10    0.362645      0.136431     0.074795\n",
       "11    0.353396      0.134366     0.075342\n",
       "12    0.360949      0.129467     0.078883\n",
       "13    0.361778      0.129293     0.078829\n",
       "14    0.336397      0.121756     0.082148\n",
       "15    0.349671      0.123794     0.081415\n",
       "16    0.348038      0.124565     0.085898\n",
       "17    0.343991      0.119951     0.085989\n",
       "18    0.319076      0.115142     0.086887\n",
       "19    0.338098      0.124325     0.090133\n",
       "20    0.316673      0.114426     0.091689\n",
       "21    0.322026      0.116764     0.094477\n",
       "22    0.318215      0.115474     0.095235\n",
       "23    0.333662      0.116807     0.097782\n",
       "24    0.317574      0.117728     0.101623\n",
       "25    0.320023      0.115306     0.099088\n",
       "26    0.320805      0.113406     0.100071\n",
       "27    0.315824      0.115252     0.104413\n",
       "28    0.326855      0.117626     0.108469\n",
       "29    0.330124      0.121676     0.111219\n",
       "30    0.322996      0.115586     0.108149\n",
       "31    0.324505      0.117713     0.111309\n",
       "32    0.318871      0.118648     0.116255\n",
       "33    0.324272      0.114229     0.112650\n",
       "34    0.323598      0.118697     0.116705\n",
       "35    0.320996      0.116404     0.117035\n",
       "36    0.316624      0.116594     0.119283\n",
       "37    0.316908      0.115008     0.119283\n",
       "38    0.331203      0.121848     0.123331\n",
       "39    0.324561      0.116852     0.121773\n",
       "40    0.320548      0.116801     0.122716\n",
       "41    0.321964      0.117806     0.123536\n",
       "42    0.325912      0.119821     0.127737\n",
       "43    0.323046      0.120368     0.127847\n",
       "44    0.323766      0.121319     0.130349\n",
       "45    0.321743      0.118091     0.127457\n",
       "46    0.322716      0.119503     0.130706\n",
       "47    0.328234      0.119578     0.129986\n",
       "48    0.322497      0.119035     0.133526\n",
       "49    0.336409      0.123536     0.133869"
      ]
     },
     "execution_count": 117,
     "metadata": {},
     "output_type": "execute_result"
    }
   ],
   "source": [
    "##transposing columns so that metrics in the columns\n",
    "clust_k = k_clust.transpose()\n",
    "clust_k.columns = ['Silhouette', 'Completeness', 'Homogeneity']\n",
    "clust_k"
   ]
  },
  {
   "cell_type": "code",
   "execution_count": 123,
   "metadata": {},
   "outputs": [
    {
     "data": {
      "image/png": "[encoded data removed]",
      "text/plain": [
       "<Figure size 720x360 with 1 Axes>"
      ]
     },
     "metadata": {
      "needs_background": "light"
     },
     "output_type": "display_data"
    }
   ],
   "source": [
    "#outputs a line plot showing the change in metrics score as the number of clusters increases\n",
    "clust_k.plot.line(cmap = 'cool', grid = True)\n",
    "plt.title('Metrics Evaluations of Clusters - KMeans')\n",
    "plt.xlabel('# of Clusters')\n",
    "plt.gcf().set_size_inches(10, 5)\n",
    "plt.legend(loc = 'upper right')\n",
    "plt.savefig('C:\\\\Users\\\\Inno Mvula\\\\Desktop\\\\kMetrics Evaluation.png', bbox_inches='tight')\n",
    "plt.xticks(np.arange(2, 51, step=2))\n",
    "plt.show()"
   ]
  },
  {
   "cell_type": "code",
   "execution_count": 220,
   "metadata": {},
   "outputs": [],
   "source": [
    "import sklearn\n",
    "from sklearn.model_selection import cross_validate\n",
    "from sklearn.model_selection import train_test_split\n",
    "from sklearn.linear_model import LogisticRegression\n",
    "from sklearn.linear_model import LinearRegression\n",
    "lm = LinearRegression()\n",
    "lg = LogisticRegression()\n",
    "\n",
    "#define variabes for use in regression\n",
    "variables = ['Category NUM', 'Reviews', 'Size', 'Installs', 'Price', 'Content Rating NUM']\n",
    "v1 = 'Category NUM'\n",
    "v2 = 'Reviews'\n",
    "v3 = 'Size'\n",
    "v4 = 'Installs'\n",
    "v5 = 'Price'\n",
    "v6 = 'Content Rating NUM'\n",
    "x = playstore[[v2]]\n",
    "x1 = playstore[variables]\n",
    "y = playstore['Rating']"
   ]
  },
  {
   "cell_type": "code",
   "execution_count": 221,
   "metadata": {},
   "outputs": [
    {
     "data": {
      "text/plain": [
       "LinearRegression(copy_X=True, fit_intercept=True, n_jobs=None, normalize=False)"
      ]
     },
     "execution_count": 221,
     "metadata": {},
     "output_type": "execute_result"
    }
   ],
   "source": [
    "#simple linear regression, training and testing of model\n",
    "x_train, x_test, y_train, y_test = sklearn.model_selection.train_test_split(x, y, test_size = 0.50)\n",
    "lm.fit(x_train, y_train)"
   ]
  },
  {
   "cell_type": "code",
   "execution_count": 222,
   "metadata": {},
   "outputs": [
    {
     "name": "stdout",
     "output_type": "stream",
     "text": [
      "4.166007555787607\n",
      "[2.73285228e-08]\n"
     ]
    }
   ],
   "source": [
    "#predict our test model and print intercepts and coefficients\n",
    "y_pred = lm.predict(x_test)\n",
    "print(lm.intercept_)\n",
    "print(lm.coef_)"
   ]
  },
  {
   "cell_type": "code",
   "execution_count": 223,
   "metadata": {},
   "outputs": [
    {
     "name": "stdout",
     "output_type": "stream",
     "text": [
      "(3862,)\n",
      "(3862,)\n"
     ]
    }
   ],
   "source": [
    "#observe length of y_test and y_pred\n",
    "print(y_test.shape)\n",
    "print(y_pred.shape)"
   ]
  },
  {
   "cell_type": "code",
   "execution_count": 224,
   "metadata": {},
   "outputs": [],
   "source": [
    "#transform y_test and y_pred to an array\n",
    "y_test = np.array(list(y_test))\n",
    "y_pred = np.array(y_pred)"
   ]
  },
  {
   "cell_type": "code",
   "execution_count": 225,
   "metadata": {},
   "outputs": [
    {
     "data": {
      "text/html": [
       "<div>\n",
       "<style scoped>\n",
       "    .dataframe tbody tr th:only-of-type {\n",
       "        vertical-align: middle;\n",
       "    }\n",
       "\n",
       "    .dataframe tbody tr th {\n",
       "        vertical-align: top;\n",
       "    }\n",
       "\n",
       "    .dataframe thead th {\n",
       "        text-align: right;\n",
       "    }\n",
       "</style>\n",
       "<table border=\"1\" class=\"dataframe\">\n",
       "  <thead>\n",
       "    <tr style=\"text-align: right;\">\n",
       "      <th></th>\n",
       "      <th>Coefficient</th>\n",
       "    </tr>\n",
       "  </thead>\n",
       "  <tbody>\n",
       "    <tr>\n",
       "      <td>Reviews</td>\n",
       "      <td>2.732852e-08</td>\n",
       "    </tr>\n",
       "  </tbody>\n",
       "</table>\n",
       "</div>"
      ],
      "text/plain": [
       "          Coefficient\n",
       "Reviews  2.732852e-08"
      ]
     },
     "execution_count": 225,
     "metadata": {},
     "output_type": "execute_result"
    }
   ],
   "source": [
    "#put coefficient in a data frame for viewing\n",
    "coeff_df = pd.DataFrame(lm.coef_, x.columns, columns=['Coefficient'])  \n",
    "coeff_df"
   ]
  },
  {
   "cell_type": "code",
   "execution_count": 226,
   "metadata": {},
   "outputs": [
    {
     "data": {
      "text/html": [
       "<div>\n",
       "<style scoped>\n",
       "    .dataframe tbody tr th:only-of-type {\n",
       "        vertical-align: middle;\n",
       "    }\n",
       "\n",
       "    .dataframe tbody tr th {\n",
       "        vertical-align: top;\n",
       "    }\n",
       "\n",
       "    .dataframe thead th {\n",
       "        text-align: right;\n",
       "    }\n",
       "</style>\n",
       "<table border=\"1\" class=\"dataframe\">\n",
       "  <thead>\n",
       "    <tr style=\"text-align: right;\">\n",
       "      <th></th>\n",
       "      <th>Actual</th>\n",
       "      <th>Predicted</th>\n",
       "    </tr>\n",
       "  </thead>\n",
       "  <tbody>\n",
       "    <tr>\n",
       "      <td>0</td>\n",
       "      <td>3.8</td>\n",
       "      <td>4.166315</td>\n",
       "    </tr>\n",
       "    <tr>\n",
       "      <td>1</td>\n",
       "      <td>4.4</td>\n",
       "      <td>4.166053</td>\n",
       "    </tr>\n",
       "    <tr>\n",
       "      <td>2</td>\n",
       "      <td>4.9</td>\n",
       "      <td>4.166008</td>\n",
       "    </tr>\n",
       "    <tr>\n",
       "      <td>3</td>\n",
       "      <td>3.2</td>\n",
       "      <td>4.166008</td>\n",
       "    </tr>\n",
       "    <tr>\n",
       "      <td>4</td>\n",
       "      <td>4.4</td>\n",
       "      <td>4.166008</td>\n",
       "    </tr>\n",
       "    <tr>\n",
       "      <td>...</td>\n",
       "      <td>...</td>\n",
       "      <td>...</td>\n",
       "    </tr>\n",
       "    <tr>\n",
       "      <td>3857</td>\n",
       "      <td>4.0</td>\n",
       "      <td>4.166013</td>\n",
       "    </tr>\n",
       "    <tr>\n",
       "      <td>3858</td>\n",
       "      <td>4.2</td>\n",
       "      <td>4.166148</td>\n",
       "    </tr>\n",
       "    <tr>\n",
       "      <td>3859</td>\n",
       "      <td>4.2</td>\n",
       "      <td>4.166120</td>\n",
       "    </tr>\n",
       "    <tr>\n",
       "      <td>3860</td>\n",
       "      <td>4.1</td>\n",
       "      <td>4.169741</td>\n",
       "    </tr>\n",
       "    <tr>\n",
       "      <td>3861</td>\n",
       "      <td>3.9</td>\n",
       "      <td>4.170578</td>\n",
       "    </tr>\n",
       "  </tbody>\n",
       "</table>\n",
       "<p>3862 rows × 2 columns</p>\n",
       "</div>"
      ],
      "text/plain": [
       "      Actual  Predicted\n",
       "0        3.8   4.166315\n",
       "1        4.4   4.166053\n",
       "2        4.9   4.166008\n",
       "3        3.2   4.166008\n",
       "4        4.4   4.166008\n",
       "...      ...        ...\n",
       "3857     4.0   4.166013\n",
       "3858     4.2   4.166148\n",
       "3859     4.2   4.166120\n",
       "3860     4.1   4.169741\n",
       "3861     3.9   4.170578\n",
       "\n",
       "[3862 rows x 2 columns]"
      ]
     },
     "execution_count": 226,
     "metadata": {},
     "output_type": "execute_result"
    }
   ],
   "source": [
    "#outputs a data frame of actual vs predicted results\n",
    "df = pd.DataFrame({'Actual': y_test.flatten(), 'Predicted': y_pred.flatten()})\n",
    "df"
   ]
  },
  {
   "cell_type": "code",
   "execution_count": 227,
   "metadata": {},
   "outputs": [
    {
     "data": {
      "image/png": "[encoded data removed]",
      "text/plain": [
       "<Figure size 720x576 with 1 Axes>"
      ]
     },
     "metadata": {
      "needs_background": "light"
     },
     "output_type": "display_data"
    }
   ],
   "source": [
    "#outputs line chart of actual vs predicted results\n",
    "df1 = df.head(15)\n",
    "df1.plot(kind='line',figsize=(10,8))\n",
    "plt.grid(which='major', linestyle='-', linewidth='0.5')\n",
    "plt.grid(which='minor', linestyle=':', linewidth='0.5')\n",
    "plt.title('Predicted vs Actual Values')\n",
    "plt.ylabel('Rating')\n",
    "plt.savefig('C:\\\\Users\\\\Inno Mvula\\\\Desktop\\\\Simple Pred vs Act.png', bbox_inches='tight')\n",
    "plt.show()"
   ]
  },
  {
   "cell_type": "code",
   "execution_count": 228,
   "metadata": {},
   "outputs": [
    {
     "name": "stdout",
     "output_type": "stream",
     "text": [
      "Mean Absolute Error: 0.3849065381170453\n",
      "Mean Squared Error: 0.29509101125307363\n",
      "Root Mean Squared Error: 0.5432228007485268\n"
     ]
    }
   ],
   "source": [
    "#Prints performance results of the model\n",
    "print('Mean Absolute Error:', metrics.mean_absolute_error(y_test, y_pred))  \n",
    "print('Mean Squared Error:', metrics.mean_squared_error(y_test, y_pred))  \n",
    "print('Root Mean Squared Error:', np.sqrt(metrics.mean_squared_error(y_test, y_pred)))"
   ]
  },
  {
   "cell_type": "code",
   "execution_count": 229,
   "metadata": {},
   "outputs": [],
   "source": [
    "#transform performance results to dictionary for transformation into data frame\n",
    "performance = {'Mean Absolute Error': [metrics.mean_absolute_error(y_test, y_pred)], \n",
    "               'Mean Squared Error': [metrics.mean_squared_error(y_test, y_pred)],\n",
    "              'Root Mean Squared Error': [metrics.mean_squared_error(y_test, y_pred)**0.5]}"
   ]
  },
  {
   "cell_type": "code",
   "execution_count": 230,
   "metadata": {},
   "outputs": [
    {
     "data": {
      "text/plain": [
       "{'Mean Absolute Error': [0.3849065381170453],\n",
       " 'Mean Squared Error': [0.29509101125307363],\n",
       " 'Root Mean Squared Error': [0.5432228007485268]}"
      ]
     },
     "execution_count": 230,
     "metadata": {},
     "output_type": "execute_result"
    }
   ],
   "source": [
    "performance"
   ]
  },
  {
   "cell_type": "code",
   "execution_count": 232,
   "metadata": {},
   "outputs": [
    {
     "data": {
      "text/html": [
       "<div>\n",
       "<style scoped>\n",
       "    .dataframe tbody tr th:only-of-type {\n",
       "        vertical-align: middle;\n",
       "    }\n",
       "\n",
       "    .dataframe tbody tr th {\n",
       "        vertical-align: top;\n",
       "    }\n",
       "\n",
       "    .dataframe thead th {\n",
       "        text-align: right;\n",
       "    }\n",
       "</style>\n",
       "<table border=\"1\" class=\"dataframe\">\n",
       "  <thead>\n",
       "    <tr style=\"text-align: right;\">\n",
       "      <th></th>\n",
       "      <th>0</th>\n",
       "    </tr>\n",
       "  </thead>\n",
       "  <tbody>\n",
       "    <tr>\n",
       "      <td>Mean Absolute Error</td>\n",
       "      <td>0.384907</td>\n",
       "    </tr>\n",
       "    <tr>\n",
       "      <td>Mean Squared Error</td>\n",
       "      <td>0.295091</td>\n",
       "    </tr>\n",
       "    <tr>\n",
       "      <td>Root Mean Squared Error</td>\n",
       "      <td>0.543223</td>\n",
       "    </tr>\n",
       "  </tbody>\n",
       "</table>\n",
       "</div>"
      ],
      "text/plain": [
       "                                0\n",
       "Mean Absolute Error      0.384907\n",
       "Mean Squared Error       0.295091\n",
       "Root Mean Squared Error  0.543223"
      ]
     },
     "execution_count": 232,
     "metadata": {},
     "output_type": "execute_result"
    }
   ],
   "source": [
    "#transform performance dictionary to data frame\n",
    "perf = pd.DataFrame(performance).transpose()\n",
    "perf"
   ]
  },
  {
   "cell_type": "code",
   "execution_count": 233,
   "metadata": {},
   "outputs": [
    {
     "data": {
      "text/plain": [
       "LinearRegression(copy_X=True, fit_intercept=True, n_jobs=None, normalize=False)"
      ]
     },
     "execution_count": 233,
     "metadata": {},
     "output_type": "execute_result"
    }
   ],
   "source": [
    "#multiple linear regression, training and test model\n",
    "x_train, x_test, y_train, y_test = sklearn.model_selection.train_test_split(x1, y, test_size = 0.50)\n",
    "lm.fit(x_train, y_train)"
   ]
  },
  {
   "cell_type": "code",
   "execution_count": 234,
   "metadata": {},
   "outputs": [
    {
     "name": "stdout",
     "output_type": "stream",
     "text": [
      "4.197917777181363\n",
      "[-2.70078984e-03  2.32760719e-08  1.38284365e-03 -6.70131468e-11\n",
      " -1.02908899e-03 -2.74448454e-03]\n"
     ]
    }
   ],
   "source": [
    "#predict our test model and print intercepts and coefficients\n",
    "y_pred1 = lm.predict(x_test)\n",
    "print(lm.intercept_)\n",
    "print(lm.coef_)"
   ]
  },
  {
   "cell_type": "code",
   "execution_count": 235,
   "metadata": {},
   "outputs": [
    {
     "name": "stdout",
     "output_type": "stream",
     "text": [
      "(3862,)\n",
      "(3862,)\n"
     ]
    }
   ],
   "source": [
    "#observe length of y_test and y_pred1\n",
    "print(y_test.shape)\n",
    "print(y_pred1.shape)"
   ]
  },
  {
   "cell_type": "code",
   "execution_count": 236,
   "metadata": {},
   "outputs": [],
   "source": [
    "#transform y_test and y_pred1 to an array\n",
    "y_test = np.array(list(y_test))\n",
    "y_pred1 = np.array(y_pred1)"
   ]
  },
  {
   "cell_type": "code",
   "execution_count": 237,
   "metadata": {},
   "outputs": [
    {
     "data": {
      "text/html": [
       "<div>\n",
       "<style scoped>\n",
       "    .dataframe tbody tr th:only-of-type {\n",
       "        vertical-align: middle;\n",
       "    }\n",
       "\n",
       "    .dataframe tbody tr th {\n",
       "        vertical-align: top;\n",
       "    }\n",
       "\n",
       "    .dataframe thead th {\n",
       "        text-align: right;\n",
       "    }\n",
       "</style>\n",
       "<table border=\"1\" class=\"dataframe\">\n",
       "  <thead>\n",
       "    <tr style=\"text-align: right;\">\n",
       "      <th></th>\n",
       "      <th>Coefficient</th>\n",
       "    </tr>\n",
       "  </thead>\n",
       "  <tbody>\n",
       "    <tr>\n",
       "      <td>Category NUM</td>\n",
       "      <td>-2.700790e-03</td>\n",
       "    </tr>\n",
       "    <tr>\n",
       "      <td>Reviews</td>\n",
       "      <td>2.327607e-08</td>\n",
       "    </tr>\n",
       "    <tr>\n",
       "      <td>Size</td>\n",
       "      <td>1.382844e-03</td>\n",
       "    </tr>\n",
       "    <tr>\n",
       "      <td>Installs</td>\n",
       "      <td>-6.701315e-11</td>\n",
       "    </tr>\n",
       "    <tr>\n",
       "      <td>Price</td>\n",
       "      <td>-1.029089e-03</td>\n",
       "    </tr>\n",
       "    <tr>\n",
       "      <td>Content Rating NUM</td>\n",
       "      <td>-2.744485e-03</td>\n",
       "    </tr>\n",
       "  </tbody>\n",
       "</table>\n",
       "</div>"
      ],
      "text/plain": [
       "                     Coefficient\n",
       "Category NUM       -2.700790e-03\n",
       "Reviews             2.327607e-08\n",
       "Size                1.382844e-03\n",
       "Installs           -6.701315e-11\n",
       "Price              -1.029089e-03\n",
       "Content Rating NUM -2.744485e-03"
      ]
     },
     "execution_count": 237,
     "metadata": {},
     "output_type": "execute_result"
    }
   ],
   "source": [
    "#put coefficients in a data frame for viewing\n",
    "coeff_df1 = pd.DataFrame(lm.coef_, x1.columns, columns=['Coefficient'])  \n",
    "coeff_df1"
   ]
  },
  {
   "cell_type": "code",
   "execution_count": 238,
   "metadata": {},
   "outputs": [
    {
     "data": {
      "text/html": [
       "<div>\n",
       "<style scoped>\n",
       "    .dataframe tbody tr th:only-of-type {\n",
       "        vertical-align: middle;\n",
       "    }\n",
       "\n",
       "    .dataframe tbody tr th {\n",
       "        vertical-align: top;\n",
       "    }\n",
       "\n",
       "    .dataframe thead th {\n",
       "        text-align: right;\n",
       "    }\n",
       "</style>\n",
       "<table border=\"1\" class=\"dataframe\">\n",
       "  <thead>\n",
       "    <tr style=\"text-align: right;\">\n",
       "      <th></th>\n",
       "      <th>Actual</th>\n",
       "      <th>Predicted</th>\n",
       "    </tr>\n",
       "  </thead>\n",
       "  <tbody>\n",
       "    <tr>\n",
       "      <td>0</td>\n",
       "      <td>4.3</td>\n",
       "      <td>4.139555</td>\n",
       "    </tr>\n",
       "    <tr>\n",
       "      <td>1</td>\n",
       "      <td>3.8</td>\n",
       "      <td>4.162901</td>\n",
       "    </tr>\n",
       "    <tr>\n",
       "      <td>2</td>\n",
       "      <td>4.6</td>\n",
       "      <td>4.156822</td>\n",
       "    </tr>\n",
       "    <tr>\n",
       "      <td>3</td>\n",
       "      <td>4.1</td>\n",
       "      <td>4.237957</td>\n",
       "    </tr>\n",
       "    <tr>\n",
       "      <td>4</td>\n",
       "      <td>2.4</td>\n",
       "      <td>4.222422</td>\n",
       "    </tr>\n",
       "    <tr>\n",
       "      <td>...</td>\n",
       "      <td>...</td>\n",
       "      <td>...</td>\n",
       "    </tr>\n",
       "    <tr>\n",
       "      <td>3857</td>\n",
       "      <td>4.3</td>\n",
       "      <td>4.195137</td>\n",
       "    </tr>\n",
       "    <tr>\n",
       "      <td>3858</td>\n",
       "      <td>4.6</td>\n",
       "      <td>4.197561</td>\n",
       "    </tr>\n",
       "    <tr>\n",
       "      <td>3859</td>\n",
       "      <td>4.3</td>\n",
       "      <td>4.215759</td>\n",
       "    </tr>\n",
       "    <tr>\n",
       "      <td>3860</td>\n",
       "      <td>4.1</td>\n",
       "      <td>4.136020</td>\n",
       "    </tr>\n",
       "    <tr>\n",
       "      <td>3861</td>\n",
       "      <td>4.2</td>\n",
       "      <td>4.130081</td>\n",
       "    </tr>\n",
       "  </tbody>\n",
       "</table>\n",
       "<p>3862 rows × 2 columns</p>\n",
       "</div>"
      ],
      "text/plain": [
       "      Actual  Predicted\n",
       "0        4.3   4.139555\n",
       "1        3.8   4.162901\n",
       "2        4.6   4.156822\n",
       "3        4.1   4.237957\n",
       "4        2.4   4.222422\n",
       "...      ...        ...\n",
       "3857     4.3   4.195137\n",
       "3858     4.6   4.197561\n",
       "3859     4.3   4.215759\n",
       "3860     4.1   4.136020\n",
       "3861     4.2   4.130081\n",
       "\n",
       "[3862 rows x 2 columns]"
      ]
     },
     "execution_count": 238,
     "metadata": {},
     "output_type": "execute_result"
    }
   ],
   "source": [
    "#outputs a data frame of actual vs predicted results\n",
    "mdf = pd.DataFrame({'Actual': y_test.flatten(), 'Predicted': y_pred1.flatten()})\n",
    "mdf"
   ]
  },
  {
   "cell_type": "code",
   "execution_count": 239,
   "metadata": {},
   "outputs": [
    {
     "data": {
      "image/png": "[encoded data removed]",
      "text/plain": [
       "<Figure size 720x576 with 1 Axes>"
      ]
     },
     "metadata": {
      "needs_background": "light"
     },
     "output_type": "display_data"
    }
   ],
   "source": [
    "#outputs line chart of actual vs predicted results\n",
    "mdf1 = mdf.head(15)\n",
    "mdf1.plot(kind='line',figsize=(10,8))\n",
    "plt.grid(which='major', linestyle='-', linewidth='0.5')\n",
    "plt.grid(which='minor', linestyle=':', linewidth='0.5')\n",
    "plt.title('Predicted vs Actual Values')\n",
    "plt.ylabel('Rating')\n",
    "plt.savefig('C:\\\\Users\\\\Inno Mvula\\\\Desktop\\\\Multi Pred vs Act.png', bbox_inches='tight')\n",
    "plt.show()"
   ]
  },
  {
   "cell_type": "code",
   "execution_count": 240,
   "metadata": {},
   "outputs": [
    {
     "name": "stdout",
     "output_type": "stream",
     "text": [
      "Mean Absolute Error: 0.38246759600807784\n",
      "Mean Squared Error: 0.2939341164493837\n",
      "Root Mean Squared Error: 0.5421569112806585\n"
     ]
    }
   ],
   "source": [
    "#Prints performance results of the model\n",
    "print('Mean Absolute Error:', metrics.mean_absolute_error(y_test, y_pred1))  \n",
    "print('Mean Squared Error:', metrics.mean_squared_error(y_test, y_pred1))  \n",
    "print('Root Mean Squared Error:', np.sqrt(metrics.mean_squared_error(y_test, y_pred1)))"
   ]
  },
  {
   "cell_type": "code",
   "execution_count": 241,
   "metadata": {},
   "outputs": [],
   "source": [
    "#transform performance results to dictionary for transformation into data frame\n",
    "mperformance = {'Mean Absolute Error': [metrics.mean_absolute_error(y_test, y_pred1)], \n",
    "               'Mean Squared Error': [metrics.mean_squared_error(y_test, y_pred1)],\n",
    "              'Root Mean Squared Error': [metrics.mean_squared_error(y_test, y_pred1)**0.5]}"
   ]
  },
  {
   "cell_type": "code",
   "execution_count": 242,
   "metadata": {},
   "outputs": [
    {
     "data": {
      "text/plain": [
       "{'Mean Absolute Error': [0.38246759600807784],\n",
       " 'Mean Squared Error': [0.2939341164493837],\n",
       " 'Root Mean Squared Error': [0.5421569112806585]}"
      ]
     },
     "execution_count": 242,
     "metadata": {},
     "output_type": "execute_result"
    }
   ],
   "source": [
    "mperformance"
   ]
  },
  {
   "cell_type": "code",
   "execution_count": 243,
   "metadata": {},
   "outputs": [],
   "source": [
    "#transform performance dictionary to data frame\n",
    "mperf = pd.DataFrame(mperformance).transpose()"
   ]
  },
  {
   "cell_type": "code",
   "execution_count": 244,
   "metadata": {},
   "outputs": [
    {
     "data": {
      "text/html": [
       "<div>\n",
       "<style scoped>\n",
       "    .dataframe tbody tr th:only-of-type {\n",
       "        vertical-align: middle;\n",
       "    }\n",
       "\n",
       "    .dataframe tbody tr th {\n",
       "        vertical-align: top;\n",
       "    }\n",
       "\n",
       "    .dataframe thead th {\n",
       "        text-align: right;\n",
       "    }\n",
       "</style>\n",
       "<table border=\"1\" class=\"dataframe\">\n",
       "  <thead>\n",
       "    <tr style=\"text-align: right;\">\n",
       "      <th></th>\n",
       "      <th>0</th>\n",
       "    </tr>\n",
       "  </thead>\n",
       "  <tbody>\n",
       "    <tr>\n",
       "      <td>Mean Absolute Error</td>\n",
       "      <td>0.382468</td>\n",
       "    </tr>\n",
       "    <tr>\n",
       "      <td>Mean Squared Error</td>\n",
       "      <td>0.293934</td>\n",
       "    </tr>\n",
       "    <tr>\n",
       "      <td>Root Mean Squared Error</td>\n",
       "      <td>0.542157</td>\n",
       "    </tr>\n",
       "  </tbody>\n",
       "</table>\n",
       "</div>"
      ],
      "text/plain": [
       "                                0\n",
       "Mean Absolute Error      0.382468\n",
       "Mean Squared Error       0.293934\n",
       "Root Mean Squared Error  0.542157"
      ]
     },
     "execution_count": 244,
     "metadata": {},
     "output_type": "execute_result"
    }
   ],
   "source": [
    "mperf"
   ]
  },
  {
   "cell_type": "code",
   "execution_count": null,
   "metadata": {},
   "outputs": [],
   "source": []
  },
  {
   "cell_type": "code",
   "execution_count": 245,
   "metadata": {},
   "outputs": [],
   "source": [
    "import statsmodels.api as sm\n",
    "from scipy import stats"
   ]
  },
  {
   "cell_type": "code",
   "execution_count": 246,
   "metadata": {
    "scrolled": true
   },
   "outputs": [
    {
     "name": "stdout",
     "output_type": "stream",
     "text": [
      "                            OLS Regression Results                            \n",
      "==============================================================================\n",
      "Dep. Variable:                 Rating   R-squared:                       0.006\n",
      "Model:                            OLS   Adj. R-squared:                  0.006\n",
      "Method:                 Least Squares   F-statistic:                     49.51\n",
      "Date:                Sun, 10 Nov 2019   Prob (F-statistic):           2.15e-12\n",
      "Time:                        19:12:39   Log-Likelihood:                -6240.5\n",
      "No. Observations:                7723   AIC:                         1.249e+04\n",
      "Df Residuals:                    7721   BIC:                         1.250e+04\n",
      "Df Model:                           1                                         \n",
      "Covariance Type:            nonrobust                                         \n",
      "==============================================================================\n",
      "                 coef    std err          t      P>|t|      [0.025      0.975]\n",
      "------------------------------------------------------------------------------\n",
      "const          4.1671      0.006    666.200      0.000       4.155       4.179\n",
      "Reviews     2.332e-08   3.31e-09      7.036      0.000    1.68e-08    2.98e-08\n",
      "==============================================================================\n",
      "Omnibus:                     2798.111   Durbin-Watson:                   1.797\n",
      "Prob(Omnibus):                  0.000   Jarque-Bera (JB):            12182.324\n",
      "Skew:                          -1.737   Prob(JB):                         0.00\n",
      "Kurtosis:                       8.078   Cond. No.                     1.91e+06\n",
      "==============================================================================\n",
      "\n",
      "Warnings:\n",
      "[1] Standard Errors assume that the covariance matrix of the errors is correctly specified.\n",
      "[2] The condition number is large, 1.91e+06. This might indicate that there are\n",
      "strong multicollinearity or other numerical problems.\n"
     ]
    },
    {
     "name": "stderr",
     "output_type": "stream",
     "text": [
      "C:\\Users\\Inno Mvula\\AppData\\Local\\Continuum\\anaconda3\\lib\\site-packages\\numpy\\core\\fromnumeric.py:2389: FutureWarning: Method .ptp is deprecated and will be removed in a future version. Use numpy.ptp instead.\n",
      "  return ptp(axis=axis, out=out, **kwargs)\n"
     ]
    }
   ],
   "source": [
    "#Outputs OLS regression Table of our Simple Regression Model\n",
    "x2 = sm.add_constant(x)\n",
    "est = sm.OLS(y, x2)\n",
    "est2 = est.fit()\n",
    "print(est2.summary())"
   ]
  },
  {
   "cell_type": "code",
   "execution_count": 247,
   "metadata": {},
   "outputs": [
    {
     "name": "stdout",
     "output_type": "stream",
     "text": [
      "                            OLS Regression Results                            \n",
      "==============================================================================\n",
      "Dep. Variable:                 Rating   R-squared:                       0.013\n",
      "Model:                            OLS   Adj. R-squared:                  0.012\n",
      "Method:                 Least Squares   F-statistic:                     16.50\n",
      "Date:                Sun, 10 Nov 2019   Prob (F-statistic):           5.44e-19\n",
      "Time:                        19:14:01   Log-Likelihood:                -6216.0\n",
      "No. Observations:                7723   AIC:                         1.245e+04\n",
      "Df Residuals:                    7716   BIC:                         1.249e+04\n",
      "Df Model:                           6                                         \n",
      "Covariance Type:            nonrobust                                         \n",
      "======================================================================================\n",
      "                         coef    std err          t      P>|t|      [0.025      0.975]\n",
      "--------------------------------------------------------------------------------------\n",
      "const                  4.1744      0.019    224.289      0.000       4.138       4.211\n",
      "Category NUM          -0.0026      0.001     -3.350      0.001      -0.004      -0.001\n",
      "Reviews             1.811e-08   4.31e-09      4.200      0.000    9.66e-09    2.66e-08\n",
      "Size                   0.0014      0.000      5.082      0.000       0.001       0.002\n",
      "Installs            3.497e-11   1.58e-10      0.222      0.824   -2.74e-10    3.44e-10\n",
      "Price                 -0.0006      0.000     -1.720      0.085      -0.001    8.51e-05\n",
      "Content Rating NUM     0.0033      0.006      0.523      0.601      -0.009       0.015\n",
      "==============================================================================\n",
      "Omnibus:                     2751.286   Durbin-Watson:                   1.806\n",
      "Prob(Omnibus):                  0.000   Jarque-Bera (JB):            11875.594\n",
      "Skew:                          -1.708   Prob(JB):                         0.00\n",
      "Kurtosis:                       8.024   Cond. No.                     1.56e+08\n",
      "==============================================================================\n",
      "\n",
      "Warnings:\n",
      "[1] Standard Errors assume that the covariance matrix of the errors is correctly specified.\n",
      "[2] The condition number is large, 1.56e+08. This might indicate that there are\n",
      "strong multicollinearity or other numerical problems.\n"
     ]
    }
   ],
   "source": [
    "#Outputs OLS regression Table of our Multiple linear Regression Model\n",
    "x3 = sm.add_constant(x1)\n",
    "est = sm.OLS(y, x3)\n",
    "est2 = est.fit()\n",
    "print(est2.summary())"
   ]
  },
  {
   "cell_type": "code",
   "execution_count": 33,
   "metadata": {},
   "outputs": [
    {
     "data": {
      "text/html": [
       "<div>\n",
       "<style scoped>\n",
       "    .dataframe tbody tr th:only-of-type {\n",
       "        vertical-align: middle;\n",
       "    }\n",
       "\n",
       "    .dataframe tbody tr th {\n",
       "        vertical-align: top;\n",
       "    }\n",
       "\n",
       "    .dataframe thead th {\n",
       "        text-align: right;\n",
       "    }\n",
       "</style>\n",
       "<table border=\"1\" class=\"dataframe\">\n",
       "  <thead>\n",
       "    <tr style=\"text-align: right;\">\n",
       "      <th></th>\n",
       "      <th>Rating</th>\n",
       "      <th>Reviews</th>\n",
       "      <th>Size</th>\n",
       "      <th>Installs</th>\n",
       "      <th>Price</th>\n",
       "    </tr>\n",
       "  </thead>\n",
       "  <tbody>\n",
       "    <tr>\n",
       "      <td>count</td>\n",
       "      <td>7723.000000</td>\n",
       "      <td>7.723000e+03</td>\n",
       "      <td>7723.000000</td>\n",
       "      <td>7.723000e+03</td>\n",
       "      <td>7723.000000</td>\n",
       "    </tr>\n",
       "    <tr>\n",
       "      <td>mean</td>\n",
       "      <td>4.173935</td>\n",
       "      <td>2.948983e+05</td>\n",
       "      <td>22.970120</td>\n",
       "      <td>8.424070e+06</td>\n",
       "      <td>1.128169</td>\n",
       "    </tr>\n",
       "    <tr>\n",
       "      <td>std</td>\n",
       "      <td>0.544638</td>\n",
       "      <td>1.863933e+06</td>\n",
       "      <td>23.449949</td>\n",
       "      <td>5.015742e+07</td>\n",
       "      <td>17.408036</td>\n",
       "    </tr>\n",
       "    <tr>\n",
       "      <td>min</td>\n",
       "      <td>1.000000</td>\n",
       "      <td>1.000000e+00</td>\n",
       "      <td>0.008301</td>\n",
       "      <td>1.000000e+00</td>\n",
       "      <td>0.000000</td>\n",
       "    </tr>\n",
       "    <tr>\n",
       "      <td>25%</td>\n",
       "      <td>4.000000</td>\n",
       "      <td>1.075000e+02</td>\n",
       "      <td>5.300000</td>\n",
       "      <td>1.000000e+04</td>\n",
       "      <td>0.000000</td>\n",
       "    </tr>\n",
       "    <tr>\n",
       "      <td>50%</td>\n",
       "      <td>4.300000</td>\n",
       "      <td>2.332000e+03</td>\n",
       "      <td>14.000000</td>\n",
       "      <td>1.000000e+05</td>\n",
       "      <td>0.000000</td>\n",
       "    </tr>\n",
       "    <tr>\n",
       "      <td>75%</td>\n",
       "      <td>4.500000</td>\n",
       "      <td>3.905300e+04</td>\n",
       "      <td>33.000000</td>\n",
       "      <td>1.000000e+06</td>\n",
       "      <td>0.000000</td>\n",
       "    </tr>\n",
       "    <tr>\n",
       "      <td>max</td>\n",
       "      <td>5.000000</td>\n",
       "      <td>4.489389e+07</td>\n",
       "      <td>100.000000</td>\n",
       "      <td>1.000000e+09</td>\n",
       "      <td>400.000000</td>\n",
       "    </tr>\n",
       "  </tbody>\n",
       "</table>\n",
       "</div>"
      ],
      "text/plain": [
       "            Rating       Reviews         Size      Installs        Price\n",
       "count  7723.000000  7.723000e+03  7723.000000  7.723000e+03  7723.000000\n",
       "mean      4.173935  2.948983e+05    22.970120  8.424070e+06     1.128169\n",
       "std       0.544638  1.863933e+06    23.449949  5.015742e+07    17.408036\n",
       "min       1.000000  1.000000e+00     0.008301  1.000000e+00     0.000000\n",
       "25%       4.000000  1.075000e+02     5.300000  1.000000e+04     0.000000\n",
       "50%       4.300000  2.332000e+03    14.000000  1.000000e+05     0.000000\n",
       "75%       4.500000  3.905300e+04    33.000000  1.000000e+06     0.000000\n",
       "max       5.000000  4.489389e+07   100.000000  1.000000e+09   400.000000"
      ]
     },
     "execution_count": 33,
     "metadata": {},
     "output_type": "execute_result"
    }
   ],
   "source": [
    "playstore.describe()"
   ]
  },
  {
   "cell_type": "code",
   "execution_count": null,
   "metadata": {},
   "outputs": [],
   "source": []
  },
  {
   "cell_type": "code",
   "execution_count": null,
   "metadata": {},
   "outputs": [],
   "source": []
  }
 ],
 "metadata": {
  "kernelspec": {
   "display_name": "Python 3",
   "language": "python",
   "name": "python3"
  },
  "language_info": {
   "codemirror_mode": {
    "name": "ipython",
    "version": 3
   },
   "file_extension": ".py",
   "mimetype": "text/x-python",
   "name": "python",
   "nbconvert_exporter": "python",
   "pygments_lexer": "ipython3",
   "version": "3.7.4"
  }
 },
 "nbformat": 4,
 "nbformat_minor": 2
}
